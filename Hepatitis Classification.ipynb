{
  "nbformat": 4,
  "nbformat_minor": 0,
  "metadata": {
    "colab": {
      "provenance": []
    },
    "kernelspec": {
      "name": "python3",
      "display_name": "Python 3"
    },
    "language_info": {
      "name": "python"
    }
  },
  "cells": [
    {
      "cell_type": "markdown",
      "source": [
        "# 1) Mengumpulkan Data\n",
        "\n",
        "\n",
        "\n",
        "*   Kebutuhan Data\n",
        "*   Mengambil Data\n",
        "\n",
        "Data diambil di web uci dengan link https://archive.ics.uci.edu/ml/datasets/Hepatitis\n",
        "\n",
        "1. Title: Hepatitis Domain\n",
        "\n",
        "2. Sources:\n",
        "     (a) unknown\n",
        "     (b) Donor: G.Gong  (Carnegie-Mellon University) via \n",
        "                   Bojan Cestnik\n",
        "                   Jozef Stefan Institute\n",
        "                   Jamova 39\n",
        "                   61000 Ljubljana\n",
        "                   Yugoslavia (tel.: (38)(+61) 214-399 ext.287) }\n",
        "     (c) Date: November, 1988\n",
        "\n",
        "3. Past Usage:\n",
        "    1. Diaconis,P. & Efron,B. (1983).  Computer-Intensive Methods in \n",
        "       Statistics.  Scientific American, Volume 248.\n",
        "       -- Gail Gong reported a 80% classfication accuracy\n",
        "    2. Cestnik,G., Konenenko,I, & Bratko,I. (1987). Assistant-86: A\n",
        "       Knowledge-Elicitation Tool for Sophisticated Users.  In I.Bratko\n",
        "       & N.Lavrac (Eds.) Progress in Machine Learning, 31-45, Sigma Press.\n",
        "       -- Assistant-86: 83% accuracy\n",
        "\n",
        "4. Relevant Information:\n",
        "    Please ask Gail Gong for further information on this database.\n",
        "\n",
        "5. Number of Instances: 155\n",
        "\n",
        "6. Number of Attributes: 20 (including the class attribute)\n",
        "\n",
        "7. Attribute information: \n",
        "     1. Class: DIE, LIVE\n",
        "     2. AGE: 10, 20, 30, 40, 50, 60, 70, 80\n",
        "     3. SEX: male, female\n",
        "     4. STEROID: no, yes\n",
        "     5. ANTIVIRALS: no, yes\n",
        "     6. FATIGUE: no, yes\n",
        "     7. MALAISE: no, yes\n",
        "     8. ANOREXIA: no, yes\n",
        "     9. LIVER BIG: no, yes\n",
        "    10. LIVER FIRM: no, yes\n",
        "    11. SPLEEN PALPABLE: no, yes\n",
        "    12. SPIDERS: no, yes\n",
        "    13. ASCITES: no, yes\n",
        "    14. VARICES: no, yes\n",
        "    15. BILIRUBIN: 0.39, 0.80, 1.20, 2.00, 3.00, 4.00\n",
        "        -- see the note below\n",
        "    16. ALK PHOSPHATE: 33, 80, 120, 160, 200, 250\n",
        "    17. SGOT: 13, 100, 200, 300, 400, 500, \n",
        "    18. ALBUMIN: 2.1, 3.0, 3.8, 4.5, 5.0, 6.0\n",
        "    19. PROTIME: 10, 20, 30, 40, 50, 60, 70, 80, 90\n",
        "    20. HISTOLOGY: no, yes\n",
        "\n",
        "    The BILIRUBIN attribute appears to be continuously-valued.  I checked\n",
        "    this with the donater, Bojan Cestnik, who replied:\n",
        "\n",
        "      About the hepatitis database and BILIRUBIN problem I would like to say\n",
        "      the following: BILIRUBIN is continuous attribute (= the number of it's\n",
        "      \"values\" in the ASDOHEPA.DAT file is negative!!!); \"values\" are quoted\n",
        "      because when speaking about the continuous attribute there is no such \n",
        "      thing as all possible values. However, they represent so called\n",
        "      \"boundary\" values; according to these \"boundary\" values the attribute\n",
        "      can be discretized. At the same time, because of the continious\n",
        "      attribute, one can perform some other test since the continuous\n",
        "      information is preserved. I hope that these lines have at least roughly \n",
        "      answered your question. \n",
        "\n",
        "8. Missing Attribute Values: (indicated by \"?\")\n",
        "     Attribute Number:    Number of Missing Values:\n",
        "        1:    0\n",
        "        2:    0\n",
        "        3:    0\n",
        "        4:    1\n",
        "        5:    0\n",
        "        6:    1\n",
        "        7:    1\n",
        "        8:    1\n",
        "        9:    10\n",
        "        10:    11\n",
        "        11:    5\n",
        "        12:    5\n",
        "        13:    5\n",
        "        14:    5\n",
        "        15:    6\n",
        "        16:    29\n",
        "        17:    4\n",
        "        18:    16\n",
        "        19:    67\n",
        "        20:    0\n",
        "\n",
        "9. Class Distribution:\n",
        "     DIE: 32\n",
        "    LIVE: 123\n",
        "\n",
        "\n"
      ],
      "metadata": {
        "id": "tjK1z17TVH-5"
      }
    },
    {
      "cell_type": "code",
      "source": [
        "# Load Library yang diperlukan\n",
        "\n",
        "import pandas as pd\n",
        "import numpy as np\n",
        "from sklearn.model_selection import train_test_split\n",
        "from sklearn.model_selection import GridSearchCV\n",
        "from sklearn.metrics import accuracy_score\n",
        "from sklearn.metrics import precision_score\n",
        "from sklearn.metrics import recall_score\n",
        "from sklearn.metrics import confusion_matrix\n",
        "from sklearn.pipeline import Pipeline\n",
        "from sklearn.tree import DecisionTreeClassifier\n",
        "from sklearn.ensemble import RandomForestClassifier\n",
        "from sklearn.naive_bayes import GaussianNB\n",
        "import matplotlib.pyplot as plt\n",
        "%matplotlib inline\n",
        "import seaborn as sns\n",
        "import missingno\n",
        "from sklearn.preprocessing import StandardScaler, MinMaxScaler\n",
        "from sklearn.decomposition import PCA"
      ],
      "metadata": {
        "id": "AoptBs_D8Rmq"
      },
      "execution_count": 1,
      "outputs": []
    },
    {
      "cell_type": "code",
      "source": [
        "# Load Dataset\n",
        "\n",
        "url = 'https://archive.ics.uci.edu/ml/machine-learning-databases/hepatitis/hepatitis.data'\n",
        "df = pd.read_csv(url, header=None)\n",
        "df.head()"
      ],
      "metadata": {
        "id": "f2rCFvUkWbAI",
        "colab": {
          "base_uri": "https://localhost:8080/",
          "height": 206
        },
        "outputId": "0a20de0a-82b9-48a8-8b2e-fa616deddd93"
      },
      "execution_count": 2,
      "outputs": [
        {
          "output_type": "execute_result",
          "data": {
            "text/plain": [
              "   0   1   2  3   4  5  6  7  8  9  10 11 12 13    14   15   16   17  18  19\n",
              "0   2  30   2  1   2  2  2  2  1  2  2  2  2  2  1.00   85   18  4.0   ?   1\n",
              "1   2  50   1  1   2  1  2  2  1  2  2  2  2  2  0.90  135   42  3.5   ?   1\n",
              "2   2  78   1  2   2  1  2  2  2  2  2  2  2  2  0.70   96   32  4.0   ?   1\n",
              "3   2  31   1  ?   1  2  2  2  2  2  2  2  2  2  0.70   46   52  4.0  80   1\n",
              "4   2  34   1  2   2  2  2  2  2  2  2  2  2  2  1.00    ?  200  4.0   ?   1"
            ],
            "text/html": [
              "\n",
              "  <div id=\"df-0f6e3d19-3bdd-4854-b57b-e8046ef2212d\">\n",
              "    <div class=\"colab-df-container\">\n",
              "      <div>\n",
              "<style scoped>\n",
              "    .dataframe tbody tr th:only-of-type {\n",
              "        vertical-align: middle;\n",
              "    }\n",
              "\n",
              "    .dataframe tbody tr th {\n",
              "        vertical-align: top;\n",
              "    }\n",
              "\n",
              "    .dataframe thead th {\n",
              "        text-align: right;\n",
              "    }\n",
              "</style>\n",
              "<table border=\"1\" class=\"dataframe\">\n",
              "  <thead>\n",
              "    <tr style=\"text-align: right;\">\n",
              "      <th></th>\n",
              "      <th>0</th>\n",
              "      <th>1</th>\n",
              "      <th>2</th>\n",
              "      <th>3</th>\n",
              "      <th>4</th>\n",
              "      <th>5</th>\n",
              "      <th>6</th>\n",
              "      <th>7</th>\n",
              "      <th>8</th>\n",
              "      <th>9</th>\n",
              "      <th>10</th>\n",
              "      <th>11</th>\n",
              "      <th>12</th>\n",
              "      <th>13</th>\n",
              "      <th>14</th>\n",
              "      <th>15</th>\n",
              "      <th>16</th>\n",
              "      <th>17</th>\n",
              "      <th>18</th>\n",
              "      <th>19</th>\n",
              "    </tr>\n",
              "  </thead>\n",
              "  <tbody>\n",
              "    <tr>\n",
              "      <th>0</th>\n",
              "      <td>2</td>\n",
              "      <td>30</td>\n",
              "      <td>2</td>\n",
              "      <td>1</td>\n",
              "      <td>2</td>\n",
              "      <td>2</td>\n",
              "      <td>2</td>\n",
              "      <td>2</td>\n",
              "      <td>1</td>\n",
              "      <td>2</td>\n",
              "      <td>2</td>\n",
              "      <td>2</td>\n",
              "      <td>2</td>\n",
              "      <td>2</td>\n",
              "      <td>1.00</td>\n",
              "      <td>85</td>\n",
              "      <td>18</td>\n",
              "      <td>4.0</td>\n",
              "      <td>?</td>\n",
              "      <td>1</td>\n",
              "    </tr>\n",
              "    <tr>\n",
              "      <th>1</th>\n",
              "      <td>2</td>\n",
              "      <td>50</td>\n",
              "      <td>1</td>\n",
              "      <td>1</td>\n",
              "      <td>2</td>\n",
              "      <td>1</td>\n",
              "      <td>2</td>\n",
              "      <td>2</td>\n",
              "      <td>1</td>\n",
              "      <td>2</td>\n",
              "      <td>2</td>\n",
              "      <td>2</td>\n",
              "      <td>2</td>\n",
              "      <td>2</td>\n",
              "      <td>0.90</td>\n",
              "      <td>135</td>\n",
              "      <td>42</td>\n",
              "      <td>3.5</td>\n",
              "      <td>?</td>\n",
              "      <td>1</td>\n",
              "    </tr>\n",
              "    <tr>\n",
              "      <th>2</th>\n",
              "      <td>2</td>\n",
              "      <td>78</td>\n",
              "      <td>1</td>\n",
              "      <td>2</td>\n",
              "      <td>2</td>\n",
              "      <td>1</td>\n",
              "      <td>2</td>\n",
              "      <td>2</td>\n",
              "      <td>2</td>\n",
              "      <td>2</td>\n",
              "      <td>2</td>\n",
              "      <td>2</td>\n",
              "      <td>2</td>\n",
              "      <td>2</td>\n",
              "      <td>0.70</td>\n",
              "      <td>96</td>\n",
              "      <td>32</td>\n",
              "      <td>4.0</td>\n",
              "      <td>?</td>\n",
              "      <td>1</td>\n",
              "    </tr>\n",
              "    <tr>\n",
              "      <th>3</th>\n",
              "      <td>2</td>\n",
              "      <td>31</td>\n",
              "      <td>1</td>\n",
              "      <td>?</td>\n",
              "      <td>1</td>\n",
              "      <td>2</td>\n",
              "      <td>2</td>\n",
              "      <td>2</td>\n",
              "      <td>2</td>\n",
              "      <td>2</td>\n",
              "      <td>2</td>\n",
              "      <td>2</td>\n",
              "      <td>2</td>\n",
              "      <td>2</td>\n",
              "      <td>0.70</td>\n",
              "      <td>46</td>\n",
              "      <td>52</td>\n",
              "      <td>4.0</td>\n",
              "      <td>80</td>\n",
              "      <td>1</td>\n",
              "    </tr>\n",
              "    <tr>\n",
              "      <th>4</th>\n",
              "      <td>2</td>\n",
              "      <td>34</td>\n",
              "      <td>1</td>\n",
              "      <td>2</td>\n",
              "      <td>2</td>\n",
              "      <td>2</td>\n",
              "      <td>2</td>\n",
              "      <td>2</td>\n",
              "      <td>2</td>\n",
              "      <td>2</td>\n",
              "      <td>2</td>\n",
              "      <td>2</td>\n",
              "      <td>2</td>\n",
              "      <td>2</td>\n",
              "      <td>1.00</td>\n",
              "      <td>?</td>\n",
              "      <td>200</td>\n",
              "      <td>4.0</td>\n",
              "      <td>?</td>\n",
              "      <td>1</td>\n",
              "    </tr>\n",
              "  </tbody>\n",
              "</table>\n",
              "</div>\n",
              "      <button class=\"colab-df-convert\" onclick=\"convertToInteractive('df-0f6e3d19-3bdd-4854-b57b-e8046ef2212d')\"\n",
              "              title=\"Convert this dataframe to an interactive table.\"\n",
              "              style=\"display:none;\">\n",
              "        \n",
              "  <svg xmlns=\"http://www.w3.org/2000/svg\" height=\"24px\"viewBox=\"0 0 24 24\"\n",
              "       width=\"24px\">\n",
              "    <path d=\"M0 0h24v24H0V0z\" fill=\"none\"/>\n",
              "    <path d=\"M18.56 5.44l.94 2.06.94-2.06 2.06-.94-2.06-.94-.94-2.06-.94 2.06-2.06.94zm-11 1L8.5 8.5l.94-2.06 2.06-.94-2.06-.94L8.5 2.5l-.94 2.06-2.06.94zm10 10l.94 2.06.94-2.06 2.06-.94-2.06-.94-.94-2.06-.94 2.06-2.06.94z\"/><path d=\"M17.41 7.96l-1.37-1.37c-.4-.4-.92-.59-1.43-.59-.52 0-1.04.2-1.43.59L10.3 9.45l-7.72 7.72c-.78.78-.78 2.05 0 2.83L4 21.41c.39.39.9.59 1.41.59.51 0 1.02-.2 1.41-.59l7.78-7.78 2.81-2.81c.8-.78.8-2.07 0-2.86zM5.41 20L4 18.59l7.72-7.72 1.47 1.35L5.41 20z\"/>\n",
              "  </svg>\n",
              "      </button>\n",
              "      \n",
              "  <style>\n",
              "    .colab-df-container {\n",
              "      display:flex;\n",
              "      flex-wrap:wrap;\n",
              "      gap: 12px;\n",
              "    }\n",
              "\n",
              "    .colab-df-convert {\n",
              "      background-color: #E8F0FE;\n",
              "      border: none;\n",
              "      border-radius: 50%;\n",
              "      cursor: pointer;\n",
              "      display: none;\n",
              "      fill: #1967D2;\n",
              "      height: 32px;\n",
              "      padding: 0 0 0 0;\n",
              "      width: 32px;\n",
              "    }\n",
              "\n",
              "    .colab-df-convert:hover {\n",
              "      background-color: #E2EBFA;\n",
              "      box-shadow: 0px 1px 2px rgba(60, 64, 67, 0.3), 0px 1px 3px 1px rgba(60, 64, 67, 0.15);\n",
              "      fill: #174EA6;\n",
              "    }\n",
              "\n",
              "    [theme=dark] .colab-df-convert {\n",
              "      background-color: #3B4455;\n",
              "      fill: #D2E3FC;\n",
              "    }\n",
              "\n",
              "    [theme=dark] .colab-df-convert:hover {\n",
              "      background-color: #434B5C;\n",
              "      box-shadow: 0px 1px 3px 1px rgba(0, 0, 0, 0.15);\n",
              "      filter: drop-shadow(0px 1px 2px rgba(0, 0, 0, 0.3));\n",
              "      fill: #FFFFFF;\n",
              "    }\n",
              "  </style>\n",
              "\n",
              "      <script>\n",
              "        const buttonEl =\n",
              "          document.querySelector('#df-0f6e3d19-3bdd-4854-b57b-e8046ef2212d button.colab-df-convert');\n",
              "        buttonEl.style.display =\n",
              "          google.colab.kernel.accessAllowed ? 'block' : 'none';\n",
              "\n",
              "        async function convertToInteractive(key) {\n",
              "          const element = document.querySelector('#df-0f6e3d19-3bdd-4854-b57b-e8046ef2212d');\n",
              "          const dataTable =\n",
              "            await google.colab.kernel.invokeFunction('convertToInteractive',\n",
              "                                                     [key], {});\n",
              "          if (!dataTable) return;\n",
              "\n",
              "          const docLinkHtml = 'Like what you see? Visit the ' +\n",
              "            '<a target=\"_blank\" href=https://colab.research.google.com/notebooks/data_table.ipynb>data table notebook</a>'\n",
              "            + ' to learn more about interactive tables.';\n",
              "          element.innerHTML = '';\n",
              "          dataTable['output_type'] = 'display_data';\n",
              "          await google.colab.output.renderOutput(dataTable, element);\n",
              "          const docLink = document.createElement('div');\n",
              "          docLink.innerHTML = docLinkHtml;\n",
              "          element.appendChild(docLink);\n",
              "        }\n",
              "      </script>\n",
              "    </div>\n",
              "  </div>\n",
              "  "
            ]
          },
          "metadata": {},
          "execution_count": 2
        }
      ]
    },
    {
      "cell_type": "code",
      "source": [
        "# Memberi nama header atribut atau fitur (karena fitur tidak terlihat maka perlu kita beri nama terlebih dahulu)\n",
        "\n",
        "df.columns = ['Class', 'AGE', 'SEX', 'STEROID', 'ANTIVIRALS', 'FATIGUE', 'MALAISE', 'ANOREXIA', 'LIVER BIG', 'LIVER FIRM', 'SPLEEN PALPABLE', 'SPIDERS', 'ASCITES',\n",
        "              'VARICES', 'BILIRUBIN', 'ALK PHOSPHATE', 'SGOT', 'ALBUMIN', 'PROTIME', 'HISTOLOGY']"
      ],
      "metadata": {
        "id": "N9UuDygMW2cc"
      },
      "execution_count": 3,
      "outputs": []
    },
    {
      "cell_type": "code",
      "source": [
        "df.head()"
      ],
      "metadata": {
        "colab": {
          "base_uri": "https://localhost:8080/",
          "height": 206
        },
        "id": "fCKM_FxLbCRc",
        "outputId": "38536b1f-ff16-4518-a6c2-a92a106c1865"
      },
      "execution_count": 4,
      "outputs": [
        {
          "output_type": "execute_result",
          "data": {
            "text/plain": [
              "   Class  AGE  SEX STEROID  ANTIVIRALS FATIGUE MALAISE ANOREXIA LIVER BIG  \\\n",
              "0      2   30    2       1           2       2       2        2         1   \n",
              "1      2   50    1       1           2       1       2        2         1   \n",
              "2      2   78    1       2           2       1       2        2         2   \n",
              "3      2   31    1       ?           1       2       2        2         2   \n",
              "4      2   34    1       2           2       2       2        2         2   \n",
              "\n",
              "  LIVER FIRM SPLEEN PALPABLE SPIDERS ASCITES VARICES BILIRUBIN ALK PHOSPHATE  \\\n",
              "0          2               2       2       2       2      1.00            85   \n",
              "1          2               2       2       2       2      0.90           135   \n",
              "2          2               2       2       2       2      0.70            96   \n",
              "3          2               2       2       2       2      0.70            46   \n",
              "4          2               2       2       2       2      1.00             ?   \n",
              "\n",
              "  SGOT ALBUMIN PROTIME  HISTOLOGY  \n",
              "0   18     4.0       ?          1  \n",
              "1   42     3.5       ?          1  \n",
              "2   32     4.0       ?          1  \n",
              "3   52     4.0      80          1  \n",
              "4  200     4.0       ?          1  "
            ],
            "text/html": [
              "\n",
              "  <div id=\"df-8d0019e0-2830-42ed-b2e5-ec17431ccd15\">\n",
              "    <div class=\"colab-df-container\">\n",
              "      <div>\n",
              "<style scoped>\n",
              "    .dataframe tbody tr th:only-of-type {\n",
              "        vertical-align: middle;\n",
              "    }\n",
              "\n",
              "    .dataframe tbody tr th {\n",
              "        vertical-align: top;\n",
              "    }\n",
              "\n",
              "    .dataframe thead th {\n",
              "        text-align: right;\n",
              "    }\n",
              "</style>\n",
              "<table border=\"1\" class=\"dataframe\">\n",
              "  <thead>\n",
              "    <tr style=\"text-align: right;\">\n",
              "      <th></th>\n",
              "      <th>Class</th>\n",
              "      <th>AGE</th>\n",
              "      <th>SEX</th>\n",
              "      <th>STEROID</th>\n",
              "      <th>ANTIVIRALS</th>\n",
              "      <th>FATIGUE</th>\n",
              "      <th>MALAISE</th>\n",
              "      <th>ANOREXIA</th>\n",
              "      <th>LIVER BIG</th>\n",
              "      <th>LIVER FIRM</th>\n",
              "      <th>SPLEEN PALPABLE</th>\n",
              "      <th>SPIDERS</th>\n",
              "      <th>ASCITES</th>\n",
              "      <th>VARICES</th>\n",
              "      <th>BILIRUBIN</th>\n",
              "      <th>ALK PHOSPHATE</th>\n",
              "      <th>SGOT</th>\n",
              "      <th>ALBUMIN</th>\n",
              "      <th>PROTIME</th>\n",
              "      <th>HISTOLOGY</th>\n",
              "    </tr>\n",
              "  </thead>\n",
              "  <tbody>\n",
              "    <tr>\n",
              "      <th>0</th>\n",
              "      <td>2</td>\n",
              "      <td>30</td>\n",
              "      <td>2</td>\n",
              "      <td>1</td>\n",
              "      <td>2</td>\n",
              "      <td>2</td>\n",
              "      <td>2</td>\n",
              "      <td>2</td>\n",
              "      <td>1</td>\n",
              "      <td>2</td>\n",
              "      <td>2</td>\n",
              "      <td>2</td>\n",
              "      <td>2</td>\n",
              "      <td>2</td>\n",
              "      <td>1.00</td>\n",
              "      <td>85</td>\n",
              "      <td>18</td>\n",
              "      <td>4.0</td>\n",
              "      <td>?</td>\n",
              "      <td>1</td>\n",
              "    </tr>\n",
              "    <tr>\n",
              "      <th>1</th>\n",
              "      <td>2</td>\n",
              "      <td>50</td>\n",
              "      <td>1</td>\n",
              "      <td>1</td>\n",
              "      <td>2</td>\n",
              "      <td>1</td>\n",
              "      <td>2</td>\n",
              "      <td>2</td>\n",
              "      <td>1</td>\n",
              "      <td>2</td>\n",
              "      <td>2</td>\n",
              "      <td>2</td>\n",
              "      <td>2</td>\n",
              "      <td>2</td>\n",
              "      <td>0.90</td>\n",
              "      <td>135</td>\n",
              "      <td>42</td>\n",
              "      <td>3.5</td>\n",
              "      <td>?</td>\n",
              "      <td>1</td>\n",
              "    </tr>\n",
              "    <tr>\n",
              "      <th>2</th>\n",
              "      <td>2</td>\n",
              "      <td>78</td>\n",
              "      <td>1</td>\n",
              "      <td>2</td>\n",
              "      <td>2</td>\n",
              "      <td>1</td>\n",
              "      <td>2</td>\n",
              "      <td>2</td>\n",
              "      <td>2</td>\n",
              "      <td>2</td>\n",
              "      <td>2</td>\n",
              "      <td>2</td>\n",
              "      <td>2</td>\n",
              "      <td>2</td>\n",
              "      <td>0.70</td>\n",
              "      <td>96</td>\n",
              "      <td>32</td>\n",
              "      <td>4.0</td>\n",
              "      <td>?</td>\n",
              "      <td>1</td>\n",
              "    </tr>\n",
              "    <tr>\n",
              "      <th>3</th>\n",
              "      <td>2</td>\n",
              "      <td>31</td>\n",
              "      <td>1</td>\n",
              "      <td>?</td>\n",
              "      <td>1</td>\n",
              "      <td>2</td>\n",
              "      <td>2</td>\n",
              "      <td>2</td>\n",
              "      <td>2</td>\n",
              "      <td>2</td>\n",
              "      <td>2</td>\n",
              "      <td>2</td>\n",
              "      <td>2</td>\n",
              "      <td>2</td>\n",
              "      <td>0.70</td>\n",
              "      <td>46</td>\n",
              "      <td>52</td>\n",
              "      <td>4.0</td>\n",
              "      <td>80</td>\n",
              "      <td>1</td>\n",
              "    </tr>\n",
              "    <tr>\n",
              "      <th>4</th>\n",
              "      <td>2</td>\n",
              "      <td>34</td>\n",
              "      <td>1</td>\n",
              "      <td>2</td>\n",
              "      <td>2</td>\n",
              "      <td>2</td>\n",
              "      <td>2</td>\n",
              "      <td>2</td>\n",
              "      <td>2</td>\n",
              "      <td>2</td>\n",
              "      <td>2</td>\n",
              "      <td>2</td>\n",
              "      <td>2</td>\n",
              "      <td>2</td>\n",
              "      <td>1.00</td>\n",
              "      <td>?</td>\n",
              "      <td>200</td>\n",
              "      <td>4.0</td>\n",
              "      <td>?</td>\n",
              "      <td>1</td>\n",
              "    </tr>\n",
              "  </tbody>\n",
              "</table>\n",
              "</div>\n",
              "      <button class=\"colab-df-convert\" onclick=\"convertToInteractive('df-8d0019e0-2830-42ed-b2e5-ec17431ccd15')\"\n",
              "              title=\"Convert this dataframe to an interactive table.\"\n",
              "              style=\"display:none;\">\n",
              "        \n",
              "  <svg xmlns=\"http://www.w3.org/2000/svg\" height=\"24px\"viewBox=\"0 0 24 24\"\n",
              "       width=\"24px\">\n",
              "    <path d=\"M0 0h24v24H0V0z\" fill=\"none\"/>\n",
              "    <path d=\"M18.56 5.44l.94 2.06.94-2.06 2.06-.94-2.06-.94-.94-2.06-.94 2.06-2.06.94zm-11 1L8.5 8.5l.94-2.06 2.06-.94-2.06-.94L8.5 2.5l-.94 2.06-2.06.94zm10 10l.94 2.06.94-2.06 2.06-.94-2.06-.94-.94-2.06-.94 2.06-2.06.94z\"/><path d=\"M17.41 7.96l-1.37-1.37c-.4-.4-.92-.59-1.43-.59-.52 0-1.04.2-1.43.59L10.3 9.45l-7.72 7.72c-.78.78-.78 2.05 0 2.83L4 21.41c.39.39.9.59 1.41.59.51 0 1.02-.2 1.41-.59l7.78-7.78 2.81-2.81c.8-.78.8-2.07 0-2.86zM5.41 20L4 18.59l7.72-7.72 1.47 1.35L5.41 20z\"/>\n",
              "  </svg>\n",
              "      </button>\n",
              "      \n",
              "  <style>\n",
              "    .colab-df-container {\n",
              "      display:flex;\n",
              "      flex-wrap:wrap;\n",
              "      gap: 12px;\n",
              "    }\n",
              "\n",
              "    .colab-df-convert {\n",
              "      background-color: #E8F0FE;\n",
              "      border: none;\n",
              "      border-radius: 50%;\n",
              "      cursor: pointer;\n",
              "      display: none;\n",
              "      fill: #1967D2;\n",
              "      height: 32px;\n",
              "      padding: 0 0 0 0;\n",
              "      width: 32px;\n",
              "    }\n",
              "\n",
              "    .colab-df-convert:hover {\n",
              "      background-color: #E2EBFA;\n",
              "      box-shadow: 0px 1px 2px rgba(60, 64, 67, 0.3), 0px 1px 3px 1px rgba(60, 64, 67, 0.15);\n",
              "      fill: #174EA6;\n",
              "    }\n",
              "\n",
              "    [theme=dark] .colab-df-convert {\n",
              "      background-color: #3B4455;\n",
              "      fill: #D2E3FC;\n",
              "    }\n",
              "\n",
              "    [theme=dark] .colab-df-convert:hover {\n",
              "      background-color: #434B5C;\n",
              "      box-shadow: 0px 1px 3px 1px rgba(0, 0, 0, 0.15);\n",
              "      filter: drop-shadow(0px 1px 2px rgba(0, 0, 0, 0.3));\n",
              "      fill: #FFFFFF;\n",
              "    }\n",
              "  </style>\n",
              "\n",
              "      <script>\n",
              "        const buttonEl =\n",
              "          document.querySelector('#df-8d0019e0-2830-42ed-b2e5-ec17431ccd15 button.colab-df-convert');\n",
              "        buttonEl.style.display =\n",
              "          google.colab.kernel.accessAllowed ? 'block' : 'none';\n",
              "\n",
              "        async function convertToInteractive(key) {\n",
              "          const element = document.querySelector('#df-8d0019e0-2830-42ed-b2e5-ec17431ccd15');\n",
              "          const dataTable =\n",
              "            await google.colab.kernel.invokeFunction('convertToInteractive',\n",
              "                                                     [key], {});\n",
              "          if (!dataTable) return;\n",
              "\n",
              "          const docLinkHtml = 'Like what you see? Visit the ' +\n",
              "            '<a target=\"_blank\" href=https://colab.research.google.com/notebooks/data_table.ipynb>data table notebook</a>'\n",
              "            + ' to learn more about interactive tables.';\n",
              "          element.innerHTML = '';\n",
              "          dataTable['output_type'] = 'display_data';\n",
              "          await google.colab.output.renderOutput(dataTable, element);\n",
              "          const docLink = document.createElement('div');\n",
              "          docLink.innerHTML = docLinkHtml;\n",
              "          element.appendChild(docLink);\n",
              "        }\n",
              "      </script>\n",
              "    </div>\n",
              "  </div>\n",
              "  "
            ]
          },
          "metadata": {},
          "execution_count": 4
        }
      ]
    },
    {
      "cell_type": "markdown",
      "source": [
        "# 2) Menelaah Data\n",
        "\n",
        "\n",
        "*   Menganalisis tipe dan relasi data\n",
        "*   Menganalisis karakteristik data\n",
        "*   Membuat laporan telaah data\n",
        "\n",
        "\n",
        "\n"
      ],
      "metadata": {
        "id": "yW9vFFYRVuAu"
      }
    },
    {
      "cell_type": "code",
      "source": [
        "# Menganalisa tipe dan relasi data\n",
        "\n",
        "# Melihat tipe dataset\n",
        "type(df)"
      ],
      "metadata": {
        "colab": {
          "base_uri": "https://localhost:8080/"
        },
        "id": "WGTzGCMCbSBH",
        "outputId": "3ce376c4-0e59-492a-d9d8-7b0da55b4e25"
      },
      "execution_count": 5,
      "outputs": [
        {
          "output_type": "execute_result",
          "data": {
            "text/plain": [
              "pandas.core.frame.DataFrame"
            ]
          },
          "metadata": {},
          "execution_count": 5
        }
      ]
    },
    {
      "cell_type": "code",
      "source": [
        "# Melihat ukuran dataset\n",
        "print(df.shape)"
      ],
      "metadata": {
        "colab": {
          "base_uri": "https://localhost:8080/"
        },
        "id": "574vsePWbmWD",
        "outputId": "a24f7b92-0003-4808-a160-ac3fad45e17b"
      },
      "execution_count": 6,
      "outputs": [
        {
          "output_type": "stream",
          "name": "stdout",
          "text": [
            "(155, 20)\n"
          ]
        }
      ]
    },
    {
      "cell_type": "code",
      "source": [
        "# Melihat informasi tipe data semua kolom\n",
        "df.info()"
      ],
      "metadata": {
        "colab": {
          "base_uri": "https://localhost:8080/"
        },
        "id": "LuDoTyO5bpYP",
        "outputId": "199d056a-4fc7-494c-e989-12c4ae56d57a"
      },
      "execution_count": 7,
      "outputs": [
        {
          "output_type": "stream",
          "name": "stdout",
          "text": [
            "<class 'pandas.core.frame.DataFrame'>\n",
            "RangeIndex: 155 entries, 0 to 154\n",
            "Data columns (total 20 columns):\n",
            " #   Column           Non-Null Count  Dtype \n",
            "---  ------           --------------  ----- \n",
            " 0   Class            155 non-null    int64 \n",
            " 1   AGE              155 non-null    int64 \n",
            " 2   SEX              155 non-null    int64 \n",
            " 3   STEROID          155 non-null    object\n",
            " 4   ANTIVIRALS       155 non-null    int64 \n",
            " 5   FATIGUE          155 non-null    object\n",
            " 6   MALAISE          155 non-null    object\n",
            " 7   ANOREXIA         155 non-null    object\n",
            " 8   LIVER BIG        155 non-null    object\n",
            " 9   LIVER FIRM       155 non-null    object\n",
            " 10  SPLEEN PALPABLE  155 non-null    object\n",
            " 11  SPIDERS          155 non-null    object\n",
            " 12  ASCITES          155 non-null    object\n",
            " 13  VARICES          155 non-null    object\n",
            " 14  BILIRUBIN        155 non-null    object\n",
            " 15  ALK PHOSPHATE    155 non-null    object\n",
            " 16  SGOT             155 non-null    object\n",
            " 17  ALBUMIN          155 non-null    object\n",
            " 18  PROTIME          155 non-null    object\n",
            " 19  HISTOLOGY        155 non-null    int64 \n",
            "dtypes: int64(5), object(15)\n",
            "memory usage: 24.3+ KB\n"
          ]
        }
      ]
    },
    {
      "cell_type": "code",
      "source": [
        "# Melihat distribusi Class (apa saja jenisnya)\n",
        "df['Class'].unique()"
      ],
      "metadata": {
        "colab": {
          "base_uri": "https://localhost:8080/"
        },
        "id": "71kIvsWybsSb",
        "outputId": "ff7179c1-7fb1-4dc2-f33f-572bfcf69fb0"
      },
      "execution_count": 8,
      "outputs": [
        {
          "output_type": "execute_result",
          "data": {
            "text/plain": [
              "array([2, 1])"
            ]
          },
          "metadata": {},
          "execution_count": 8
        }
      ]
    },
    {
      "cell_type": "code",
      "source": [
        "# Melihat distribusi Class (jumlahnya tiap Class)\n",
        "df['Class'].value_counts()"
      ],
      "metadata": {
        "colab": {
          "base_uri": "https://localhost:8080/"
        },
        "id": "BI8leA-ZbwJj",
        "outputId": "8e3179df-054f-4dca-d54d-4dc0758c6a20"
      },
      "execution_count": 9,
      "outputs": [
        {
          "output_type": "execute_result",
          "data": {
            "text/plain": [
              "2    123\n",
              "1     32\n",
              "Name: Class, dtype: int64"
            ]
          },
          "metadata": {},
          "execution_count": 9
        }
      ]
    },
    {
      "cell_type": "code",
      "source": [
        "# Melihat distribusi kelas (visualisasi diagram batang dengan library seaborn)\n",
        "\n",
        "sns.set(font_scale=1.4)\n",
        "df['Class'].value_counts().plot(kind='bar', figsize=(7,6), rot=0)\n",
        "plt.xlabel(\"Tipe Penyakit Kanker Paru-Paru\", labelpad=14)\n",
        "plt.ylabel(\"Jumlah\", labelpad=14)\n",
        "plt.title(\"Distribusi Penderita Penyakit Kanker Paru-Paru\", y=1.02)"
      ],
      "metadata": {
        "colab": {
          "base_uri": "https://localhost:8080/",
          "height": 457
        },
        "id": "6ZHwVhIdbydm",
        "outputId": "2bba9bc5-b34b-4df5-ae85-6cc316f4cc1a"
      },
      "execution_count": 10,
      "outputs": [
        {
          "output_type": "execute_result",
          "data": {
            "text/plain": [
              "Text(0.5, 1.02, 'Distribusi Penderita Penyakit Kanker Paru-Paru')"
            ]
          },
          "metadata": {},
          "execution_count": 10
        },
        {
          "output_type": "display_data",
          "data": {
            "text/plain": [
              "<Figure size 504x432 with 1 Axes>"
            ],
            "image/png": "[encoded data removed]"
          },
          "metadata": {}
        }
      ]
    },
    {
      "cell_type": "code",
      "source": [
        "# Melihat deskripsi dataset\n",
        "df.describe()"
      ],
      "metadata": {
        "colab": {
          "base_uri": "https://localhost:8080/",
          "height": 300
        },
        "id": "LSYtp_OOb2dO",
        "outputId": "e7f6fb2a-f959-4890-eb3e-8e3dbac4d3e9"
      },
      "execution_count": 11,
      "outputs": [
        {
          "output_type": "execute_result",
          "data": {
            "text/plain": [
              "            Class         AGE         SEX  ANTIVIRALS   HISTOLOGY\n",
              "count  155.000000  155.000000  155.000000  155.000000  155.000000\n",
              "mean     1.793548   41.200000    1.103226    1.845161    1.451613\n",
              "std      0.406070   12.565878    0.305240    0.362923    0.499266\n",
              "min      1.000000    7.000000    1.000000    1.000000    1.000000\n",
              "25%      2.000000   32.000000    1.000000    2.000000    1.000000\n",
              "50%      2.000000   39.000000    1.000000    2.000000    1.000000\n",
              "75%      2.000000   50.000000    1.000000    2.000000    2.000000\n",
              "max      2.000000   78.000000    2.000000    2.000000    2.000000"
            ],
            "text/html": [
              "\n",
              "  <div id=\"df-48288a3a-0091-43ae-a915-2008d02c0db5\">\n",
              "    <div class=\"colab-df-container\">\n",
              "      <div>\n",
              "<style scoped>\n",
              "    .dataframe tbody tr th:only-of-type {\n",
              "        vertical-align: middle;\n",
              "    }\n",
              "\n",
              "    .dataframe tbody tr th {\n",
              "        vertical-align: top;\n",
              "    }\n",
              "\n",
              "    .dataframe thead th {\n",
              "        text-align: right;\n",
              "    }\n",
              "</style>\n",
              "<table border=\"1\" class=\"dataframe\">\n",
              "  <thead>\n",
              "    <tr style=\"text-align: right;\">\n",
              "      <th></th>\n",
              "      <th>Class</th>\n",
              "      <th>AGE</th>\n",
              "      <th>SEX</th>\n",
              "      <th>ANTIVIRALS</th>\n",
              "      <th>HISTOLOGY</th>\n",
              "    </tr>\n",
              "  </thead>\n",
              "  <tbody>\n",
              "    <tr>\n",
              "      <th>count</th>\n",
              "      <td>155.000000</td>\n",
              "      <td>155.000000</td>\n",
              "      <td>155.000000</td>\n",
              "      <td>155.000000</td>\n",
              "      <td>155.000000</td>\n",
              "    </tr>\n",
              "    <tr>\n",
              "      <th>mean</th>\n",
              "      <td>1.793548</td>\n",
              "      <td>41.200000</td>\n",
              "      <td>1.103226</td>\n",
              "      <td>1.845161</td>\n",
              "      <td>1.451613</td>\n",
              "    </tr>\n",
              "    <tr>\n",
              "      <th>std</th>\n",
              "      <td>0.406070</td>\n",
              "      <td>12.565878</td>\n",
              "      <td>0.305240</td>\n",
              "      <td>0.362923</td>\n",
              "      <td>0.499266</td>\n",
              "    </tr>\n",
              "    <tr>\n",
              "      <th>min</th>\n",
              "      <td>1.000000</td>\n",
              "      <td>7.000000</td>\n",
              "      <td>1.000000</td>\n",
              "      <td>1.000000</td>\n",
              "      <td>1.000000</td>\n",
              "    </tr>\n",
              "    <tr>\n",
              "      <th>25%</th>\n",
              "      <td>2.000000</td>\n",
              "      <td>32.000000</td>\n",
              "      <td>1.000000</td>\n",
              "      <td>2.000000</td>\n",
              "      <td>1.000000</td>\n",
              "    </tr>\n",
              "    <tr>\n",
              "      <th>50%</th>\n",
              "      <td>2.000000</td>\n",
              "      <td>39.000000</td>\n",
              "      <td>1.000000</td>\n",
              "      <td>2.000000</td>\n",
              "      <td>1.000000</td>\n",
              "    </tr>\n",
              "    <tr>\n",
              "      <th>75%</th>\n",
              "      <td>2.000000</td>\n",
              "      <td>50.000000</td>\n",
              "      <td>1.000000</td>\n",
              "      <td>2.000000</td>\n",
              "      <td>2.000000</td>\n",
              "    </tr>\n",
              "    <tr>\n",
              "      <th>max</th>\n",
              "      <td>2.000000</td>\n",
              "      <td>78.000000</td>\n",
              "      <td>2.000000</td>\n",
              "      <td>2.000000</td>\n",
              "      <td>2.000000</td>\n",
              "    </tr>\n",
              "  </tbody>\n",
              "</table>\n",
              "</div>\n",
              "      <button class=\"colab-df-convert\" onclick=\"convertToInteractive('df-48288a3a-0091-43ae-a915-2008d02c0db5')\"\n",
              "              title=\"Convert this dataframe to an interactive table.\"\n",
              "              style=\"display:none;\">\n",
              "        \n",
              "  <svg xmlns=\"http://www.w3.org/2000/svg\" height=\"24px\"viewBox=\"0 0 24 24\"\n",
              "       width=\"24px\">\n",
              "    <path d=\"M0 0h24v24H0V0z\" fill=\"none\"/>\n",
              "    <path d=\"M18.56 5.44l.94 2.06.94-2.06 2.06-.94-2.06-.94-.94-2.06-.94 2.06-2.06.94zm-11 1L8.5 8.5l.94-2.06 2.06-.94-2.06-.94L8.5 2.5l-.94 2.06-2.06.94zm10 10l.94 2.06.94-2.06 2.06-.94-2.06-.94-.94-2.06-.94 2.06-2.06.94z\"/><path d=\"M17.41 7.96l-1.37-1.37c-.4-.4-.92-.59-1.43-.59-.52 0-1.04.2-1.43.59L10.3 9.45l-7.72 7.72c-.78.78-.78 2.05 0 2.83L4 21.41c.39.39.9.59 1.41.59.51 0 1.02-.2 1.41-.59l7.78-7.78 2.81-2.81c.8-.78.8-2.07 0-2.86zM5.41 20L4 18.59l7.72-7.72 1.47 1.35L5.41 20z\"/>\n",
              "  </svg>\n",
              "      </button>\n",
              "      \n",
              "  <style>\n",
              "    .colab-df-container {\n",
              "      display:flex;\n",
              "      flex-wrap:wrap;\n",
              "      gap: 12px;\n",
              "    }\n",
              "\n",
              "    .colab-df-convert {\n",
              "      background-color: #E8F0FE;\n",
              "      border: none;\n",
              "      border-radius: 50%;\n",
              "      cursor: pointer;\n",
              "      display: none;\n",
              "      fill: #1967D2;\n",
              "      height: 32px;\n",
              "      padding: 0 0 0 0;\n",
              "      width: 32px;\n",
              "    }\n",
              "\n",
              "    .colab-df-convert:hover {\n",
              "      background-color: #E2EBFA;\n",
              "      box-shadow: 0px 1px 2px rgba(60, 64, 67, 0.3), 0px 1px 3px 1px rgba(60, 64, 67, 0.15);\n",
              "      fill: #174EA6;\n",
              "    }\n",
              "\n",
              "    [theme=dark] .colab-df-convert {\n",
              "      background-color: #3B4455;\n",
              "      fill: #D2E3FC;\n",
              "    }\n",
              "\n",
              "    [theme=dark] .colab-df-convert:hover {\n",
              "      background-color: #434B5C;\n",
              "      box-shadow: 0px 1px 3px 1px rgba(0, 0, 0, 0.15);\n",
              "      filter: drop-shadow(0px 1px 2px rgba(0, 0, 0, 0.3));\n",
              "      fill: #FFFFFF;\n",
              "    }\n",
              "  </style>\n",
              "\n",
              "      <script>\n",
              "        const buttonEl =\n",
              "          document.querySelector('#df-48288a3a-0091-43ae-a915-2008d02c0db5 button.colab-df-convert');\n",
              "        buttonEl.style.display =\n",
              "          google.colab.kernel.accessAllowed ? 'block' : 'none';\n",
              "\n",
              "        async function convertToInteractive(key) {\n",
              "          const element = document.querySelector('#df-48288a3a-0091-43ae-a915-2008d02c0db5');\n",
              "          const dataTable =\n",
              "            await google.colab.kernel.invokeFunction('convertToInteractive',\n",
              "                                                     [key], {});\n",
              "          if (!dataTable) return;\n",
              "\n",
              "          const docLinkHtml = 'Like what you see? Visit the ' +\n",
              "            '<a target=\"_blank\" href=https://colab.research.google.com/notebooks/data_table.ipynb>data table notebook</a>'\n",
              "            + ' to learn more about interactive tables.';\n",
              "          element.innerHTML = '';\n",
              "          dataTable['output_type'] = 'display_data';\n",
              "          await google.colab.output.renderOutput(dataTable, element);\n",
              "          const docLink = document.createElement('div');\n",
              "          docLink.innerHTML = docLinkHtml;\n",
              "          element.appendChild(docLink);\n",
              "        }\n",
              "      </script>\n",
              "    </div>\n",
              "  </div>\n",
              "  "
            ]
          },
          "metadata": {},
          "execution_count": 11
        }
      ]
    },
    {
      "cell_type": "markdown",
      "source": [
        "## Laporan atau Kesimpulan\n",
        "\n",
        "*   Tipe Dataset adalah dataframe\n",
        "*   Data Tidak Seimbang\n",
        "*   Ada beberapa fitur yang seharusnya bertipe data \n",
        "int64, namun tertulis Object, sehingga pada deskripsi data tidak muncul karena fungsi describe() mengembalikan nilai numerik.\n",
        "*   Jumlah data adalah 155 baris dan 20 kolom.\n",
        "*   terdapat data yang hilang (dimana data yang hilang, diberikan tanda '?').\n",
        "*   Jumlah distribusi class 1/(DIE) => ada 32 pasien, Class 2/(LIVE) => ada 123 pasien."
      ],
      "metadata": {
        "id": "SGFX4ZDIcOpp"
      }
    },
    {
      "cell_type": "markdown",
      "source": [
        "# 3) Memvalidasi Data\n",
        "\n",
        "\n",
        "\n",
        "*   melakukan pengecekan kelengkapan data\n",
        "*   membuat rekomendasi kelengkapan data\n",
        "*   mengembangkan perencanaan untuk mendukung strategi pencegahan kerusakan\n",
        "\n"
      ],
      "metadata": {
        "id": "ZiGrXqHsd0Ko"
      }
    },
    {
      "cell_type": "code",
      "source": [
        "# Cek dataframe yang missing yang ditandai dengan tanda \"?\"\n",
        "df.head()"
      ],
      "metadata": {
        "colab": {
          "base_uri": "https://localhost:8080/",
          "height": 206
        },
        "id": "jpVC7uzlcAq8",
        "outputId": "650a2081-6538-4e34-d857-2cb16be71583"
      },
      "execution_count": 12,
      "outputs": [
        {
          "output_type": "execute_result",
          "data": {
            "text/plain": [
              "   Class  AGE  SEX STEROID  ANTIVIRALS FATIGUE MALAISE ANOREXIA LIVER BIG  \\\n",
              "0      2   30    2       1           2       2       2        2         1   \n",
              "1      2   50    1       1           2       1       2        2         1   \n",
              "2      2   78    1       2           2       1       2        2         2   \n",
              "3      2   31    1       ?           1       2       2        2         2   \n",
              "4      2   34    1       2           2       2       2        2         2   \n",
              "\n",
              "  LIVER FIRM SPLEEN PALPABLE SPIDERS ASCITES VARICES BILIRUBIN ALK PHOSPHATE  \\\n",
              "0          2               2       2       2       2      1.00            85   \n",
              "1          2               2       2       2       2      0.90           135   \n",
              "2          2               2       2       2       2      0.70            96   \n",
              "3          2               2       2       2       2      0.70            46   \n",
              "4          2               2       2       2       2      1.00             ?   \n",
              "\n",
              "  SGOT ALBUMIN PROTIME  HISTOLOGY  \n",
              "0   18     4.0       ?          1  \n",
              "1   42     3.5       ?          1  \n",
              "2   32     4.0       ?          1  \n",
              "3   52     4.0      80          1  \n",
              "4  200     4.0       ?          1  "
            ],
            "text/html": [
              "\n",
              "  <div id=\"df-46f2683a-5842-4b40-9075-b071c4a48a24\">\n",
              "    <div class=\"colab-df-container\">\n",
              "      <div>\n",
              "<style scoped>\n",
              "    .dataframe tbody tr th:only-of-type {\n",
              "        vertical-align: middle;\n",
              "    }\n",
              "\n",
              "    .dataframe tbody tr th {\n",
              "        vertical-align: top;\n",
              "    }\n",
              "\n",
              "    .dataframe thead th {\n",
              "        text-align: right;\n",
              "    }\n",
              "</style>\n",
              "<table border=\"1\" class=\"dataframe\">\n",
              "  <thead>\n",
              "    <tr style=\"text-align: right;\">\n",
              "      <th></th>\n",
              "      <th>Class</th>\n",
              "      <th>AGE</th>\n",
              "      <th>SEX</th>\n",
              "      <th>STEROID</th>\n",
              "      <th>ANTIVIRALS</th>\n",
              "      <th>FATIGUE</th>\n",
              "      <th>MALAISE</th>\n",
              "      <th>ANOREXIA</th>\n",
              "      <th>LIVER BIG</th>\n",
              "      <th>LIVER FIRM</th>\n",
              "      <th>SPLEEN PALPABLE</th>\n",
              "      <th>SPIDERS</th>\n",
              "      <th>ASCITES</th>\n",
              "      <th>VARICES</th>\n",
              "      <th>BILIRUBIN</th>\n",
              "      <th>ALK PHOSPHATE</th>\n",
              "      <th>SGOT</th>\n",
              "      <th>ALBUMIN</th>\n",
              "      <th>PROTIME</th>\n",
              "      <th>HISTOLOGY</th>\n",
              "    </tr>\n",
              "  </thead>\n",
              "  <tbody>\n",
              "    <tr>\n",
              "      <th>0</th>\n",
              "      <td>2</td>\n",
              "      <td>30</td>\n",
              "      <td>2</td>\n",
              "      <td>1</td>\n",
              "      <td>2</td>\n",
              "      <td>2</td>\n",
              "      <td>2</td>\n",
              "      <td>2</td>\n",
              "      <td>1</td>\n",
              "      <td>2</td>\n",
              "      <td>2</td>\n",
              "      <td>2</td>\n",
              "      <td>2</td>\n",
              "      <td>2</td>\n",
              "      <td>1.00</td>\n",
              "      <td>85</td>\n",
              "      <td>18</td>\n",
              "      <td>4.0</td>\n",
              "      <td>?</td>\n",
              "      <td>1</td>\n",
              "    </tr>\n",
              "    <tr>\n",
              "      <th>1</th>\n",
              "      <td>2</td>\n",
              "      <td>50</td>\n",
              "      <td>1</td>\n",
              "      <td>1</td>\n",
              "      <td>2</td>\n",
              "      <td>1</td>\n",
              "      <td>2</td>\n",
              "      <td>2</td>\n",
              "      <td>1</td>\n",
              "      <td>2</td>\n",
              "      <td>2</td>\n",
              "      <td>2</td>\n",
              "      <td>2</td>\n",
              "      <td>2</td>\n",
              "      <td>0.90</td>\n",
              "      <td>135</td>\n",
              "      <td>42</td>\n",
              "      <td>3.5</td>\n",
              "      <td>?</td>\n",
              "      <td>1</td>\n",
              "    </tr>\n",
              "    <tr>\n",
              "      <th>2</th>\n",
              "      <td>2</td>\n",
              "      <td>78</td>\n",
              "      <td>1</td>\n",
              "      <td>2</td>\n",
              "      <td>2</td>\n",
              "      <td>1</td>\n",
              "      <td>2</td>\n",
              "      <td>2</td>\n",
              "      <td>2</td>\n",
              "      <td>2</td>\n",
              "      <td>2</td>\n",
              "      <td>2</td>\n",
              "      <td>2</td>\n",
              "      <td>2</td>\n",
              "      <td>0.70</td>\n",
              "      <td>96</td>\n",
              "      <td>32</td>\n",
              "      <td>4.0</td>\n",
              "      <td>?</td>\n",
              "      <td>1</td>\n",
              "    </tr>\n",
              "    <tr>\n",
              "      <th>3</th>\n",
              "      <td>2</td>\n",
              "      <td>31</td>\n",
              "      <td>1</td>\n",
              "      <td>?</td>\n",
              "      <td>1</td>\n",
              "      <td>2</td>\n",
              "      <td>2</td>\n",
              "      <td>2</td>\n",
              "      <td>2</td>\n",
              "      <td>2</td>\n",
              "      <td>2</td>\n",
              "      <td>2</td>\n",
              "      <td>2</td>\n",
              "      <td>2</td>\n",
              "      <td>0.70</td>\n",
              "      <td>46</td>\n",
              "      <td>52</td>\n",
              "      <td>4.0</td>\n",
              "      <td>80</td>\n",
              "      <td>1</td>\n",
              "    </tr>\n",
              "    <tr>\n",
              "      <th>4</th>\n",
              "      <td>2</td>\n",
              "      <td>34</td>\n",
              "      <td>1</td>\n",
              "      <td>2</td>\n",
              "      <td>2</td>\n",
              "      <td>2</td>\n",
              "      <td>2</td>\n",
              "      <td>2</td>\n",
              "      <td>2</td>\n",
              "      <td>2</td>\n",
              "      <td>2</td>\n",
              "      <td>2</td>\n",
              "      <td>2</td>\n",
              "      <td>2</td>\n",
              "      <td>1.00</td>\n",
              "      <td>?</td>\n",
              "      <td>200</td>\n",
              "      <td>4.0</td>\n",
              "      <td>?</td>\n",
              "      <td>1</td>\n",
              "    </tr>\n",
              "  </tbody>\n",
              "</table>\n",
              "</div>\n",
              "      <button class=\"colab-df-convert\" onclick=\"convertToInteractive('df-46f2683a-5842-4b40-9075-b071c4a48a24')\"\n",
              "              title=\"Convert this dataframe to an interactive table.\"\n",
              "              style=\"display:none;\">\n",
              "        \n",
              "  <svg xmlns=\"http://www.w3.org/2000/svg\" height=\"24px\"viewBox=\"0 0 24 24\"\n",
              "       width=\"24px\">\n",
              "    <path d=\"M0 0h24v24H0V0z\" fill=\"none\"/>\n",
              "    <path d=\"M18.56 5.44l.94 2.06.94-2.06 2.06-.94-2.06-.94-.94-2.06-.94 2.06-2.06.94zm-11 1L8.5 8.5l.94-2.06 2.06-.94-2.06-.94L8.5 2.5l-.94 2.06-2.06.94zm10 10l.94 2.06.94-2.06 2.06-.94-2.06-.94-.94-2.06-.94 2.06-2.06.94z\"/><path d=\"M17.41 7.96l-1.37-1.37c-.4-.4-.92-.59-1.43-.59-.52 0-1.04.2-1.43.59L10.3 9.45l-7.72 7.72c-.78.78-.78 2.05 0 2.83L4 21.41c.39.39.9.59 1.41.59.51 0 1.02-.2 1.41-.59l7.78-7.78 2.81-2.81c.8-.78.8-2.07 0-2.86zM5.41 20L4 18.59l7.72-7.72 1.47 1.35L5.41 20z\"/>\n",
              "  </svg>\n",
              "      </button>\n",
              "      \n",
              "  <style>\n",
              "    .colab-df-container {\n",
              "      display:flex;\n",
              "      flex-wrap:wrap;\n",
              "      gap: 12px;\n",
              "    }\n",
              "\n",
              "    .colab-df-convert {\n",
              "      background-color: #E8F0FE;\n",
              "      border: none;\n",
              "      border-radius: 50%;\n",
              "      cursor: pointer;\n",
              "      display: none;\n",
              "      fill: #1967D2;\n",
              "      height: 32px;\n",
              "      padding: 0 0 0 0;\n",
              "      width: 32px;\n",
              "    }\n",
              "\n",
              "    .colab-df-convert:hover {\n",
              "      background-color: #E2EBFA;\n",
              "      box-shadow: 0px 1px 2px rgba(60, 64, 67, 0.3), 0px 1px 3px 1px rgba(60, 64, 67, 0.15);\n",
              "      fill: #174EA6;\n",
              "    }\n",
              "\n",
              "    [theme=dark] .colab-df-convert {\n",
              "      background-color: #3B4455;\n",
              "      fill: #D2E3FC;\n",
              "    }\n",
              "\n",
              "    [theme=dark] .colab-df-convert:hover {\n",
              "      background-color: #434B5C;\n",
              "      box-shadow: 0px 1px 3px 1px rgba(0, 0, 0, 0.15);\n",
              "      filter: drop-shadow(0px 1px 2px rgba(0, 0, 0, 0.3));\n",
              "      fill: #FFFFFF;\n",
              "    }\n",
              "  </style>\n",
              "\n",
              "      <script>\n",
              "        const buttonEl =\n",
              "          document.querySelector('#df-46f2683a-5842-4b40-9075-b071c4a48a24 button.colab-df-convert');\n",
              "        buttonEl.style.display =\n",
              "          google.colab.kernel.accessAllowed ? 'block' : 'none';\n",
              "\n",
              "        async function convertToInteractive(key) {\n",
              "          const element = document.querySelector('#df-46f2683a-5842-4b40-9075-b071c4a48a24');\n",
              "          const dataTable =\n",
              "            await google.colab.kernel.invokeFunction('convertToInteractive',\n",
              "                                                     [key], {});\n",
              "          if (!dataTable) return;\n",
              "\n",
              "          const docLinkHtml = 'Like what you see? Visit the ' +\n",
              "            '<a target=\"_blank\" href=https://colab.research.google.com/notebooks/data_table.ipynb>data table notebook</a>'\n",
              "            + ' to learn more about interactive tables.';\n",
              "          element.innerHTML = '';\n",
              "          dataTable['output_type'] = 'display_data';\n",
              "          await google.colab.output.renderOutput(dataTable, element);\n",
              "          const docLink = document.createElement('div');\n",
              "          docLink.innerHTML = docLinkHtml;\n",
              "          element.appendChild(docLink);\n",
              "        }\n",
              "      </script>\n",
              "    </div>\n",
              "  </div>\n",
              "  "
            ]
          },
          "metadata": {},
          "execution_count": 12
        }
      ]
    },
    {
      "cell_type": "code",
      "source": [
        "# Merubah nilai \"?\" menjadi \"NaN\" dengan library numpy.nan\n",
        "df.replace(\"?\", np.nan, inplace=True)"
      ],
      "metadata": {
        "id": "fvoaSE_VebJA"
      },
      "execution_count": 13,
      "outputs": []
    },
    {
      "cell_type": "code",
      "source": [
        "df.head()"
      ],
      "metadata": {
        "colab": {
          "base_uri": "https://localhost:8080/",
          "height": 206
        },
        "id": "47hFk75tebH9",
        "outputId": "31656539-b3d0-41c7-8605-c15981e47c57"
      },
      "execution_count": 14,
      "outputs": [
        {
          "output_type": "execute_result",
          "data": {
            "text/plain": [
              "   Class  AGE  SEX STEROID  ANTIVIRALS FATIGUE MALAISE ANOREXIA LIVER BIG  \\\n",
              "0      2   30    2       1           2       2       2        2         1   \n",
              "1      2   50    1       1           2       1       2        2         1   \n",
              "2      2   78    1       2           2       1       2        2         2   \n",
              "3      2   31    1     NaN           1       2       2        2         2   \n",
              "4      2   34    1       2           2       2       2        2         2   \n",
              "\n",
              "  LIVER FIRM SPLEEN PALPABLE SPIDERS ASCITES VARICES BILIRUBIN ALK PHOSPHATE  \\\n",
              "0          2               2       2       2       2      1.00            85   \n",
              "1          2               2       2       2       2      0.90           135   \n",
              "2          2               2       2       2       2      0.70            96   \n",
              "3          2               2       2       2       2      0.70            46   \n",
              "4          2               2       2       2       2      1.00           NaN   \n",
              "\n",
              "  SGOT ALBUMIN PROTIME  HISTOLOGY  \n",
              "0   18     4.0     NaN          1  \n",
              "1   42     3.5     NaN          1  \n",
              "2   32     4.0     NaN          1  \n",
              "3   52     4.0      80          1  \n",
              "4  200     4.0     NaN          1  "
            ],
            "text/html": [
              "\n",
              "  <div id=\"df-c46db45a-8fcd-4856-9b4c-e4f31daa205d\">\n",
              "    <div class=\"colab-df-container\">\n",
              "      <div>\n",
              "<style scoped>\n",
              "    .dataframe tbody tr th:only-of-type {\n",
              "        vertical-align: middle;\n",
              "    }\n",
              "\n",
              "    .dataframe tbody tr th {\n",
              "        vertical-align: top;\n",
              "    }\n",
              "\n",
              "    .dataframe thead th {\n",
              "        text-align: right;\n",
              "    }\n",
              "</style>\n",
              "<table border=\"1\" class=\"dataframe\">\n",
              "  <thead>\n",
              "    <tr style=\"text-align: right;\">\n",
              "      <th></th>\n",
              "      <th>Class</th>\n",
              "      <th>AGE</th>\n",
              "      <th>SEX</th>\n",
              "      <th>STEROID</th>\n",
              "      <th>ANTIVIRALS</th>\n",
              "      <th>FATIGUE</th>\n",
              "      <th>MALAISE</th>\n",
              "      <th>ANOREXIA</th>\n",
              "      <th>LIVER BIG</th>\n",
              "      <th>LIVER FIRM</th>\n",
              "      <th>SPLEEN PALPABLE</th>\n",
              "      <th>SPIDERS</th>\n",
              "      <th>ASCITES</th>\n",
              "      <th>VARICES</th>\n",
              "      <th>BILIRUBIN</th>\n",
              "      <th>ALK PHOSPHATE</th>\n",
              "      <th>SGOT</th>\n",
              "      <th>ALBUMIN</th>\n",
              "      <th>PROTIME</th>\n",
              "      <th>HISTOLOGY</th>\n",
              "    </tr>\n",
              "  </thead>\n",
              "  <tbody>\n",
              "    <tr>\n",
              "      <th>0</th>\n",
              "      <td>2</td>\n",
              "      <td>30</td>\n",
              "      <td>2</td>\n",
              "      <td>1</td>\n",
              "      <td>2</td>\n",
              "      <td>2</td>\n",
              "      <td>2</td>\n",
              "      <td>2</td>\n",
              "      <td>1</td>\n",
              "      <td>2</td>\n",
              "      <td>2</td>\n",
              "      <td>2</td>\n",
              "      <td>2</td>\n",
              "      <td>2</td>\n",
              "      <td>1.00</td>\n",
              "      <td>85</td>\n",
              "      <td>18</td>\n",
              "      <td>4.0</td>\n",
              "      <td>NaN</td>\n",
              "      <td>1</td>\n",
              "    </tr>\n",
              "    <tr>\n",
              "      <th>1</th>\n",
              "      <td>2</td>\n",
              "      <td>50</td>\n",
              "      <td>1</td>\n",
              "      <td>1</td>\n",
              "      <td>2</td>\n",
              "      <td>1</td>\n",
              "      <td>2</td>\n",
              "      <td>2</td>\n",
              "      <td>1</td>\n",
              "      <td>2</td>\n",
              "      <td>2</td>\n",
              "      <td>2</td>\n",
              "      <td>2</td>\n",
              "      <td>2</td>\n",
              "      <td>0.90</td>\n",
              "      <td>135</td>\n",
              "      <td>42</td>\n",
              "      <td>3.5</td>\n",
              "      <td>NaN</td>\n",
              "      <td>1</td>\n",
              "    </tr>\n",
              "    <tr>\n",
              "      <th>2</th>\n",
              "      <td>2</td>\n",
              "      <td>78</td>\n",
              "      <td>1</td>\n",
              "      <td>2</td>\n",
              "      <td>2</td>\n",
              "      <td>1</td>\n",
              "      <td>2</td>\n",
              "      <td>2</td>\n",
              "      <td>2</td>\n",
              "      <td>2</td>\n",
              "      <td>2</td>\n",
              "      <td>2</td>\n",
              "      <td>2</td>\n",
              "      <td>2</td>\n",
              "      <td>0.70</td>\n",
              "      <td>96</td>\n",
              "      <td>32</td>\n",
              "      <td>4.0</td>\n",
              "      <td>NaN</td>\n",
              "      <td>1</td>\n",
              "    </tr>\n",
              "    <tr>\n",
              "      <th>3</th>\n",
              "      <td>2</td>\n",
              "      <td>31</td>\n",
              "      <td>1</td>\n",
              "      <td>NaN</td>\n",
              "      <td>1</td>\n",
              "      <td>2</td>\n",
              "      <td>2</td>\n",
              "      <td>2</td>\n",
              "      <td>2</td>\n",
              "      <td>2</td>\n",
              "      <td>2</td>\n",
              "      <td>2</td>\n",
              "      <td>2</td>\n",
              "      <td>2</td>\n",
              "      <td>0.70</td>\n",
              "      <td>46</td>\n",
              "      <td>52</td>\n",
              "      <td>4.0</td>\n",
              "      <td>80</td>\n",
              "      <td>1</td>\n",
              "    </tr>\n",
              "    <tr>\n",
              "      <th>4</th>\n",
              "      <td>2</td>\n",
              "      <td>34</td>\n",
              "      <td>1</td>\n",
              "      <td>2</td>\n",
              "      <td>2</td>\n",
              "      <td>2</td>\n",
              "      <td>2</td>\n",
              "      <td>2</td>\n",
              "      <td>2</td>\n",
              "      <td>2</td>\n",
              "      <td>2</td>\n",
              "      <td>2</td>\n",
              "      <td>2</td>\n",
              "      <td>2</td>\n",
              "      <td>1.00</td>\n",
              "      <td>NaN</td>\n",
              "      <td>200</td>\n",
              "      <td>4.0</td>\n",
              "      <td>NaN</td>\n",
              "      <td>1</td>\n",
              "    </tr>\n",
              "  </tbody>\n",
              "</table>\n",
              "</div>\n",
              "      <button class=\"colab-df-convert\" onclick=\"convertToInteractive('df-c46db45a-8fcd-4856-9b4c-e4f31daa205d')\"\n",
              "              title=\"Convert this dataframe to an interactive table.\"\n",
              "              style=\"display:none;\">\n",
              "        \n",
              "  <svg xmlns=\"http://www.w3.org/2000/svg\" height=\"24px\"viewBox=\"0 0 24 24\"\n",
              "       width=\"24px\">\n",
              "    <path d=\"M0 0h24v24H0V0z\" fill=\"none\"/>\n",
              "    <path d=\"M18.56 5.44l.94 2.06.94-2.06 2.06-.94-2.06-.94-.94-2.06-.94 2.06-2.06.94zm-11 1L8.5 8.5l.94-2.06 2.06-.94-2.06-.94L8.5 2.5l-.94 2.06-2.06.94zm10 10l.94 2.06.94-2.06 2.06-.94-2.06-.94-.94-2.06-.94 2.06-2.06.94z\"/><path d=\"M17.41 7.96l-1.37-1.37c-.4-.4-.92-.59-1.43-.59-.52 0-1.04.2-1.43.59L10.3 9.45l-7.72 7.72c-.78.78-.78 2.05 0 2.83L4 21.41c.39.39.9.59 1.41.59.51 0 1.02-.2 1.41-.59l7.78-7.78 2.81-2.81c.8-.78.8-2.07 0-2.86zM5.41 20L4 18.59l7.72-7.72 1.47 1.35L5.41 20z\"/>\n",
              "  </svg>\n",
              "      </button>\n",
              "      \n",
              "  <style>\n",
              "    .colab-df-container {\n",
              "      display:flex;\n",
              "      flex-wrap:wrap;\n",
              "      gap: 12px;\n",
              "    }\n",
              "\n",
              "    .colab-df-convert {\n",
              "      background-color: #E8F0FE;\n",
              "      border: none;\n",
              "      border-radius: 50%;\n",
              "      cursor: pointer;\n",
              "      display: none;\n",
              "      fill: #1967D2;\n",
              "      height: 32px;\n",
              "      padding: 0 0 0 0;\n",
              "      width: 32px;\n",
              "    }\n",
              "\n",
              "    .colab-df-convert:hover {\n",
              "      background-color: #E2EBFA;\n",
              "      box-shadow: 0px 1px 2px rgba(60, 64, 67, 0.3), 0px 1px 3px 1px rgba(60, 64, 67, 0.15);\n",
              "      fill: #174EA6;\n",
              "    }\n",
              "\n",
              "    [theme=dark] .colab-df-convert {\n",
              "      background-color: #3B4455;\n",
              "      fill: #D2E3FC;\n",
              "    }\n",
              "\n",
              "    [theme=dark] .colab-df-convert:hover {\n",
              "      background-color: #434B5C;\n",
              "      box-shadow: 0px 1px 3px 1px rgba(0, 0, 0, 0.15);\n",
              "      filter: drop-shadow(0px 1px 2px rgba(0, 0, 0, 0.3));\n",
              "      fill: #FFFFFF;\n",
              "    }\n",
              "  </style>\n",
              "\n",
              "      <script>\n",
              "        const buttonEl =\n",
              "          document.querySelector('#df-c46db45a-8fcd-4856-9b4c-e4f31daa205d button.colab-df-convert');\n",
              "        buttonEl.style.display =\n",
              "          google.colab.kernel.accessAllowed ? 'block' : 'none';\n",
              "\n",
              "        async function convertToInteractive(key) {\n",
              "          const element = document.querySelector('#df-c46db45a-8fcd-4856-9b4c-e4f31daa205d');\n",
              "          const dataTable =\n",
              "            await google.colab.kernel.invokeFunction('convertToInteractive',\n",
              "                                                     [key], {});\n",
              "          if (!dataTable) return;\n",
              "\n",
              "          const docLinkHtml = 'Like what you see? Visit the ' +\n",
              "            '<a target=\"_blank\" href=https://colab.research.google.com/notebooks/data_table.ipynb>data table notebook</a>'\n",
              "            + ' to learn more about interactive tables.';\n",
              "          element.innerHTML = '';\n",
              "          dataTable['output_type'] = 'display_data';\n",
              "          await google.colab.output.renderOutput(dataTable, element);\n",
              "          const docLink = document.createElement('div');\n",
              "          docLink.innerHTML = docLinkHtml;\n",
              "          element.appendChild(docLink);\n",
              "        }\n",
              "      </script>\n",
              "    </div>\n",
              "  </div>\n",
              "  "
            ]
          },
          "metadata": {},
          "execution_count": 14
        }
      ]
    },
    {
      "cell_type": "code",
      "source": [
        "# Mengecek apakah dataframe ada nilai kosong atau \"NaN\"\n",
        "df.isnull().values.any()"
      ],
      "metadata": {
        "colab": {
          "base_uri": "https://localhost:8080/"
        },
        "id": "cuUuxDeeeodP",
        "outputId": "6eab9d5b-1cbe-49ed-c48c-3b722fe11d10"
      },
      "execution_count": 15,
      "outputs": [
        {
          "output_type": "execute_result",
          "data": {
            "text/plain": [
              "True"
            ]
          },
          "metadata": {},
          "execution_count": 15
        }
      ]
    },
    {
      "cell_type": "code",
      "source": [
        "# Melihat lokasi pada kolom dataframe yang kosong atau \"NaN\"\n",
        "df.loc[:, df.isnull().any()].columns"
      ],
      "metadata": {
        "colab": {
          "base_uri": "https://localhost:8080/"
        },
        "id": "G6ms83iFesXk",
        "outputId": "457f3cd4-4b4f-4bb2-b131-c5a298bc9074"
      },
      "execution_count": 16,
      "outputs": [
        {
          "output_type": "execute_result",
          "data": {
            "text/plain": [
              "Index(['STEROID', 'FATIGUE', 'MALAISE', 'ANOREXIA', 'LIVER BIG', 'LIVER FIRM',\n",
              "       'SPLEEN PALPABLE', 'SPIDERS', 'ASCITES', 'VARICES', 'BILIRUBIN',\n",
              "       'ALK PHOSPHATE', 'SGOT', 'ALBUMIN', 'PROTIME'],\n",
              "      dtype='object')"
            ]
          },
          "metadata": {},
          "execution_count": 16
        }
      ]
    },
    {
      "cell_type": "code",
      "source": [
        "# Melihat prosentasi dari nilai kosong (NaN) untuk steroid, fatigue, malaise, anorexia, liver big, liver firm, spleen palpable, spiders, ascities, varices, bilirubin, alk phospate, sgot, albumin, protime\n",
        "df.loc[:,list(df.loc[:,df.isnull().any()].columns)].isnull().sum()"
      ],
      "metadata": {
        "colab": {
          "base_uri": "https://localhost:8080/"
        },
        "id": "wTRV3gYrevf9",
        "outputId": "65b80042-7d32-4805-dc8e-8aec703f032c"
      },
      "execution_count": 17,
      "outputs": [
        {
          "output_type": "execute_result",
          "data": {
            "text/plain": [
              "STEROID             1\n",
              "FATIGUE             1\n",
              "MALAISE             1\n",
              "ANOREXIA            1\n",
              "LIVER BIG          10\n",
              "LIVER FIRM         11\n",
              "SPLEEN PALPABLE     5\n",
              "SPIDERS             5\n",
              "ASCITES             5\n",
              "VARICES             5\n",
              "BILIRUBIN           6\n",
              "ALK PHOSPHATE      29\n",
              "SGOT                4\n",
              "ALBUMIN            16\n",
              "PROTIME            67\n",
              "dtype: int64"
            ]
          },
          "metadata": {},
          "execution_count": 17
        }
      ]
    },
    {
      "cell_type": "code",
      "source": [
        "# melihat data missing value dalam bentuk dataframe\n",
        "df[['STEROID', 'FATIGUE', 'MALAISE', 'ANOREXIA', 'LIVER BIG', 'LIVER FIRM',\n",
        "       'SPLEEN PALPABLE', 'SPIDERS', 'ASCITES', 'VARICES', 'BILIRUBIN',\n",
        "       'ALK PHOSPHATE', 'SGOT', 'ALBUMIN', 'PROTIME']]"
      ],
      "metadata": {
        "colab": {
          "base_uri": "https://localhost:8080/",
          "height": 424
        },
        "id": "PV9BZLGIe03j",
        "outputId": "d49d7705-e8ac-4ad0-e741-2b402b0597f6"
      },
      "execution_count": 18,
      "outputs": [
        {
          "output_type": "execute_result",
          "data": {
            "text/plain": [
              "    STEROID FATIGUE MALAISE ANOREXIA LIVER BIG LIVER FIRM SPLEEN PALPABLE  \\\n",
              "0         1       2       2        2         1          2               2   \n",
              "1         1       1       2        2         1          2               2   \n",
              "2         2       1       2        2         2          2               2   \n",
              "3       NaN       2       2        2         2          2               2   \n",
              "4         2       2       2        2         2          2               2   \n",
              "..      ...     ...     ...      ...       ...        ...             ...   \n",
              "150       2       1       1        1         2          2               2   \n",
              "151       2       1       2        2         2          1               2   \n",
              "152       1       1       1        2         1          1               2   \n",
              "153       1       1       2        2         2          2               1   \n",
              "154       2       1       2        2         2          2               1   \n",
              "\n",
              "    SPIDERS ASCITES VARICES BILIRUBIN ALK PHOSPHATE SGOT ALBUMIN PROTIME  \n",
              "0         2       2       2      1.00            85   18     4.0     NaN  \n",
              "1         2       2       2      0.90           135   42     3.5     NaN  \n",
              "2         2       2       2      0.70            96   32     4.0     NaN  \n",
              "3         2       2       2      0.70            46   52     4.0      80  \n",
              "4         2       2       2      1.00           NaN  200     4.0     NaN  \n",
              "..      ...     ...     ...       ...           ...  ...     ...     ...  \n",
              "150       1       1       1      7.60           NaN  242     3.3      50  \n",
              "151       2       2       2      0.90           126  142     4.3     NaN  \n",
              "152       1       2       2      0.80            75   20     4.1     NaN  \n",
              "153       1       2       1      1.50            81   19     4.1      48  \n",
              "154       1       1       2      1.20           100   19     3.1      42  \n",
              "\n",
              "[155 rows x 15 columns]"
            ],
            "text/html": [
              "\n",
              "  <div id=\"df-9addb02e-4a48-4c9f-a4bd-2fbfaec59b78\">\n",
              "    <div class=\"colab-df-container\">\n",
              "      <div>\n",
              "<style scoped>\n",
              "    .dataframe tbody tr th:only-of-type {\n",
              "        vertical-align: middle;\n",
              "    }\n",
              "\n",
              "    .dataframe tbody tr th {\n",
              "        vertical-align: top;\n",
              "    }\n",
              "\n",
              "    .dataframe thead th {\n",
              "        text-align: right;\n",
              "    }\n",
              "</style>\n",
              "<table border=\"1\" class=\"dataframe\">\n",
              "  <thead>\n",
              "    <tr style=\"text-align: right;\">\n",
              "      <th></th>\n",
              "      <th>STEROID</th>\n",
              "      <th>FATIGUE</th>\n",
              "      <th>MALAISE</th>\n",
              "      <th>ANOREXIA</th>\n",
              "      <th>LIVER BIG</th>\n",
              "      <th>LIVER FIRM</th>\n",
              "      <th>SPLEEN PALPABLE</th>\n",
              "      <th>SPIDERS</th>\n",
              "      <th>ASCITES</th>\n",
              "      <th>VARICES</th>\n",
              "      <th>BILIRUBIN</th>\n",
              "      <th>ALK PHOSPHATE</th>\n",
              "      <th>SGOT</th>\n",
              "      <th>ALBUMIN</th>\n",
              "      <th>PROTIME</th>\n",
              "    </tr>\n",
              "  </thead>\n",
              "  <tbody>\n",
              "    <tr>\n",
              "      <th>0</th>\n",
              "      <td>1</td>\n",
              "      <td>2</td>\n",
              "      <td>2</td>\n",
              "      <td>2</td>\n",
              "      <td>1</td>\n",
              "      <td>2</td>\n",
              "      <td>2</td>\n",
              "      <td>2</td>\n",
              "      <td>2</td>\n",
              "      <td>2</td>\n",
              "      <td>1.00</td>\n",
              "      <td>85</td>\n",
              "      <td>18</td>\n",
              "      <td>4.0</td>\n",
              "      <td>NaN</td>\n",
              "    </tr>\n",
              "    <tr>\n",
              "      <th>1</th>\n",
              "      <td>1</td>\n",
              "      <td>1</td>\n",
              "      <td>2</td>\n",
              "      <td>2</td>\n",
              "      <td>1</td>\n",
              "      <td>2</td>\n",
              "      <td>2</td>\n",
              "      <td>2</td>\n",
              "      <td>2</td>\n",
              "      <td>2</td>\n",
              "      <td>0.90</td>\n",
              "      <td>135</td>\n",
              "      <td>42</td>\n",
              "      <td>3.5</td>\n",
              "      <td>NaN</td>\n",
              "    </tr>\n",
              "    <tr>\n",
              "      <th>2</th>\n",
              "      <td>2</td>\n",
              "      <td>1</td>\n",
              "      <td>2</td>\n",
              "      <td>2</td>\n",
              "      <td>2</td>\n",
              "      <td>2</td>\n",
              "      <td>2</td>\n",
              "      <td>2</td>\n",
              "      <td>2</td>\n",
              "      <td>2</td>\n",
              "      <td>0.70</td>\n",
              "      <td>96</td>\n",
              "      <td>32</td>\n",
              "      <td>4.0</td>\n",
              "      <td>NaN</td>\n",
              "    </tr>\n",
              "    <tr>\n",
              "      <th>3</th>\n",
              "      <td>NaN</td>\n",
              "      <td>2</td>\n",
              "      <td>2</td>\n",
              "      <td>2</td>\n",
              "      <td>2</td>\n",
              "      <td>2</td>\n",
              "      <td>2</td>\n",
              "      <td>2</td>\n",
              "      <td>2</td>\n",
              "      <td>2</td>\n",
              "      <td>0.70</td>\n",
              "      <td>46</td>\n",
              "      <td>52</td>\n",
              "      <td>4.0</td>\n",
              "      <td>80</td>\n",
              "    </tr>\n",
              "    <tr>\n",
              "      <th>4</th>\n",
              "      <td>2</td>\n",
              "      <td>2</td>\n",
              "      <td>2</td>\n",
              "      <td>2</td>\n",
              "      <td>2</td>\n",
              "      <td>2</td>\n",
              "      <td>2</td>\n",
              "      <td>2</td>\n",
              "      <td>2</td>\n",
              "      <td>2</td>\n",
              "      <td>1.00</td>\n",
              "      <td>NaN</td>\n",
              "      <td>200</td>\n",
              "      <td>4.0</td>\n",
              "      <td>NaN</td>\n",
              "    </tr>\n",
              "    <tr>\n",
              "      <th>...</th>\n",
              "      <td>...</td>\n",
              "      <td>...</td>\n",
              "      <td>...</td>\n",
              "      <td>...</td>\n",
              "      <td>...</td>\n",
              "      <td>...</td>\n",
              "      <td>...</td>\n",
              "      <td>...</td>\n",
              "      <td>...</td>\n",
              "      <td>...</td>\n",
              "      <td>...</td>\n",
              "      <td>...</td>\n",
              "      <td>...</td>\n",
              "      <td>...</td>\n",
              "      <td>...</td>\n",
              "    </tr>\n",
              "    <tr>\n",
              "      <th>150</th>\n",
              "      <td>2</td>\n",
              "      <td>1</td>\n",
              "      <td>1</td>\n",
              "      <td>1</td>\n",
              "      <td>2</td>\n",
              "      <td>2</td>\n",
              "      <td>2</td>\n",
              "      <td>1</td>\n",
              "      <td>1</td>\n",
              "      <td>1</td>\n",
              "      <td>7.60</td>\n",
              "      <td>NaN</td>\n",
              "      <td>242</td>\n",
              "      <td>3.3</td>\n",
              "      <td>50</td>\n",
              "    </tr>\n",
              "    <tr>\n",
              "      <th>151</th>\n",
              "      <td>2</td>\n",
              "      <td>1</td>\n",
              "      <td>2</td>\n",
              "      <td>2</td>\n",
              "      <td>2</td>\n",
              "      <td>1</td>\n",
              "      <td>2</td>\n",
              "      <td>2</td>\n",
              "      <td>2</td>\n",
              "      <td>2</td>\n",
              "      <td>0.90</td>\n",
              "      <td>126</td>\n",
              "      <td>142</td>\n",
              "      <td>4.3</td>\n",
              "      <td>NaN</td>\n",
              "    </tr>\n",
              "    <tr>\n",
              "      <th>152</th>\n",
              "      <td>1</td>\n",
              "      <td>1</td>\n",
              "      <td>1</td>\n",
              "      <td>2</td>\n",
              "      <td>1</td>\n",
              "      <td>1</td>\n",
              "      <td>2</td>\n",
              "      <td>1</td>\n",
              "      <td>2</td>\n",
              "      <td>2</td>\n",
              "      <td>0.80</td>\n",
              "      <td>75</td>\n",
              "      <td>20</td>\n",
              "      <td>4.1</td>\n",
              "      <td>NaN</td>\n",
              "    </tr>\n",
              "    <tr>\n",
              "      <th>153</th>\n",
              "      <td>1</td>\n",
              "      <td>1</td>\n",
              "      <td>2</td>\n",
              "      <td>2</td>\n",
              "      <td>2</td>\n",
              "      <td>2</td>\n",
              "      <td>1</td>\n",
              "      <td>1</td>\n",
              "      <td>2</td>\n",
              "      <td>1</td>\n",
              "      <td>1.50</td>\n",
              "      <td>81</td>\n",
              "      <td>19</td>\n",
              "      <td>4.1</td>\n",
              "      <td>48</td>\n",
              "    </tr>\n",
              "    <tr>\n",
              "      <th>154</th>\n",
              "      <td>2</td>\n",
              "      <td>1</td>\n",
              "      <td>2</td>\n",
              "      <td>2</td>\n",
              "      <td>2</td>\n",
              "      <td>2</td>\n",
              "      <td>1</td>\n",
              "      <td>1</td>\n",
              "      <td>1</td>\n",
              "      <td>2</td>\n",
              "      <td>1.20</td>\n",
              "      <td>100</td>\n",
              "      <td>19</td>\n",
              "      <td>3.1</td>\n",
              "      <td>42</td>\n",
              "    </tr>\n",
              "  </tbody>\n",
              "</table>\n",
              "<p>155 rows × 15 columns</p>\n",
              "</div>\n",
              "      <button class=\"colab-df-convert\" onclick=\"convertToInteractive('df-9addb02e-4a48-4c9f-a4bd-2fbfaec59b78')\"\n",
              "              title=\"Convert this dataframe to an interactive table.\"\n",
              "              style=\"display:none;\">\n",
              "        \n",
              "  <svg xmlns=\"http://www.w3.org/2000/svg\" height=\"24px\"viewBox=\"0 0 24 24\"\n",
              "       width=\"24px\">\n",
              "    <path d=\"M0 0h24v24H0V0z\" fill=\"none\"/>\n",
              "    <path d=\"M18.56 5.44l.94 2.06.94-2.06 2.06-.94-2.06-.94-.94-2.06-.94 2.06-2.06.94zm-11 1L8.5 8.5l.94-2.06 2.06-.94-2.06-.94L8.5 2.5l-.94 2.06-2.06.94zm10 10l.94 2.06.94-2.06 2.06-.94-2.06-.94-.94-2.06-.94 2.06-2.06.94z\"/><path d=\"M17.41 7.96l-1.37-1.37c-.4-.4-.92-.59-1.43-.59-.52 0-1.04.2-1.43.59L10.3 9.45l-7.72 7.72c-.78.78-.78 2.05 0 2.83L4 21.41c.39.39.9.59 1.41.59.51 0 1.02-.2 1.41-.59l7.78-7.78 2.81-2.81c.8-.78.8-2.07 0-2.86zM5.41 20L4 18.59l7.72-7.72 1.47 1.35L5.41 20z\"/>\n",
              "  </svg>\n",
              "      </button>\n",
              "      \n",
              "  <style>\n",
              "    .colab-df-container {\n",
              "      display:flex;\n",
              "      flex-wrap:wrap;\n",
              "      gap: 12px;\n",
              "    }\n",
              "\n",
              "    .colab-df-convert {\n",
              "      background-color: #E8F0FE;\n",
              "      border: none;\n",
              "      border-radius: 50%;\n",
              "      cursor: pointer;\n",
              "      display: none;\n",
              "      fill: #1967D2;\n",
              "      height: 32px;\n",
              "      padding: 0 0 0 0;\n",
              "      width: 32px;\n",
              "    }\n",
              "\n",
              "    .colab-df-convert:hover {\n",
              "      background-color: #E2EBFA;\n",
              "      box-shadow: 0px 1px 2px rgba(60, 64, 67, 0.3), 0px 1px 3px 1px rgba(60, 64, 67, 0.15);\n",
              "      fill: #174EA6;\n",
              "    }\n",
              "\n",
              "    [theme=dark] .colab-df-convert {\n",
              "      background-color: #3B4455;\n",
              "      fill: #D2E3FC;\n",
              "    }\n",
              "\n",
              "    [theme=dark] .colab-df-convert:hover {\n",
              "      background-color: #434B5C;\n",
              "      box-shadow: 0px 1px 3px 1px rgba(0, 0, 0, 0.15);\n",
              "      filter: drop-shadow(0px 1px 2px rgba(0, 0, 0, 0.3));\n",
              "      fill: #FFFFFF;\n",
              "    }\n",
              "  </style>\n",
              "\n",
              "      <script>\n",
              "        const buttonEl =\n",
              "          document.querySelector('#df-9addb02e-4a48-4c9f-a4bd-2fbfaec59b78 button.colab-df-convert');\n",
              "        buttonEl.style.display =\n",
              "          google.colab.kernel.accessAllowed ? 'block' : 'none';\n",
              "\n",
              "        async function convertToInteractive(key) {\n",
              "          const element = document.querySelector('#df-9addb02e-4a48-4c9f-a4bd-2fbfaec59b78');\n",
              "          const dataTable =\n",
              "            await google.colab.kernel.invokeFunction('convertToInteractive',\n",
              "                                                     [key], {});\n",
              "          if (!dataTable) return;\n",
              "\n",
              "          const docLinkHtml = 'Like what you see? Visit the ' +\n",
              "            '<a target=\"_blank\" href=https://colab.research.google.com/notebooks/data_table.ipynb>data table notebook</a>'\n",
              "            + ' to learn more about interactive tables.';\n",
              "          element.innerHTML = '';\n",
              "          dataTable['output_type'] = 'display_data';\n",
              "          await google.colab.output.renderOutput(dataTable, element);\n",
              "          const docLink = document.createElement('div');\n",
              "          docLink.innerHTML = docLinkHtml;\n",
              "          element.appendChild(docLink);\n",
              "        }\n",
              "      </script>\n",
              "    </div>\n",
              "  </div>\n",
              "  "
            ]
          },
          "metadata": {},
          "execution_count": 18
        }
      ]
    },
    {
      "cell_type": "code",
      "source": [
        "# Mengecek apakah dataframe ada yang duplicate atau tidak\n",
        "cek_duplicate = df.duplicated().value_counts()\n",
        "print(cek_duplicate)"
      ],
      "metadata": {
        "colab": {
          "base_uri": "https://localhost:8080/"
        },
        "id": "oIlnTrruiRak",
        "outputId": "803d50c0-f623-4d72-9aa0-c1b41845bf9c"
      },
      "execution_count": 19,
      "outputs": [
        {
          "output_type": "stream",
          "name": "stdout",
          "text": [
            "False    155\n",
            "dtype: int64\n"
          ]
        }
      ]
    },
    {
      "cell_type": "markdown",
      "source": [
        "### Kesimpulan\n",
        "\n",
        "*   Dataset yang ditandai tanda \"?\" diubah menjadi NaN dengan fungsi replace\n",
        "*   Daftar kolom yang memiliki nilai NaN yaitu \n",
        "      - STEROID berjumlah 1\n",
        "      - FATIGUE berjumlah 1\n",
        "      - MALAISE berjumlah 1\n",
        "      - ANOREXIA berjumlah 1\n",
        "      - LIVER BIG berjumlah 10\n",
        "      - LIVER FIRM berjumlah 11\n",
        "      - SPLEEN PALPABLE berjumlah 5\n",
        "      - SPIDERS berjumlah 5\n",
        "      - ASCITES berjumlah 5\n",
        "      - VARICES berjumlah 5\n",
        "      - BILIRUBIN berjumlah 6\n",
        "      - ALK PHOSPHATE berjumlah 29\n",
        "      - SGOT berjumlah 4\n",
        "      - ALBUMIN berjumlah 16\n",
        "      - PROTIME berjumlah 67\n",
        "\n",
        "\n",
        "\n",
        "*   Tidak ada data duplicate\n",
        "\n",
        "\n",
        "\n"
      ],
      "metadata": {
        "id": "ELxzejnZf0Zq"
      }
    },
    {
      "cell_type": "markdown",
      "source": [
        "# 4) Menentukan Objek Data\n",
        "\n",
        "semua kolom dan baris akan digunakan pada pada pembuatan model "
      ],
      "metadata": {
        "id": "1cdh3L7BhMIQ"
      }
    },
    {
      "cell_type": "markdown",
      "source": [
        "# 5) Membersihkan Data\n",
        "\n",
        "1. Memperbaiki nilai yang hilang dengan menggunakan median"
      ],
      "metadata": {
        "id": "QpbKSgxZhoNl"
      }
    },
    {
      "cell_type": "code",
      "source": [
        "# Memperbaiki nilai yang hilang\n",
        "# Visualisasi data nilai yang hilang\n",
        "missingdata_df = df.columns[df.isnull().any()].tolist()\n",
        "missingno.matrix(df[missingdata_df])"
      ],
      "metadata": {
        "colab": {
          "base_uri": "https://localhost:8080/",
          "height": 723
        },
        "id": "33ko5BlRfyOI",
        "outputId": "5a4de0af-55b3-457b-aef7-16815f2024df"
      },
      "execution_count": 20,
      "outputs": [
        {
          "output_type": "execute_result",
          "data": {
            "text/plain": [
              "<matplotlib.axes._subplots.AxesSubplot at 0x7f7ddd7f1610>"
            ]
          },
          "metadata": {},
          "execution_count": 20
        },
        {
          "output_type": "display_data",
          "data": {
            "text/plain": [
              "<Figure size 1800x720 with 2 Axes>"
            ],
            "image/png": "[encoded data removed]"
          },
          "metadata": {}
        }
      ]
    },
    {
      "cell_type": "code",
      "source": [
        "# Memperbaiki nilai yang hilang dengan nilai tengah (median) => fillna : untuk mengisi nilai yang kosong\n",
        "median_steroid = df['STEROID'].median()\n",
        "df['STEROID']=df['STEROID'].fillna(median_steroid)\n",
        "\n",
        "median_fatigue = df['FATIGUE'].median()\n",
        "df['FATIGUE']=df['FATIGUE'].fillna(median_fatigue)\n",
        "\n",
        "median_malaise = df['MALAISE'].median()\n",
        "df['MALAISE']=df['MALAISE'].fillna(median_malaise)\n",
        "\n",
        "median_anorexia = df['ANOREXIA'].median()\n",
        "df['ANOREXIA']=df['ANOREXIA'].fillna(median_anorexia)\n",
        "\n",
        "median_liverbig = df['LIVER BIG'].median()\n",
        "df['LIVER BIG']=df['LIVER BIG'].fillna(median_liverbig)\n",
        "\n",
        "median_liverfirm = df['LIVER FIRM'].median()\n",
        "df['LIVER FIRM']=df['LIVER FIRM'].fillna(median_liverfirm)\n",
        "\n",
        "median_spleen = df['SPLEEN PALPABLE'].median()\n",
        "df['SPLEEN PALPABLE']=df['SPLEEN PALPABLE'].fillna(median_spleen)\n",
        "\n",
        "median_spiders = df['SPIDERS'].median()\n",
        "df['SPIDERS']=df['SPIDERS'].fillna(median_spiders)\n",
        "\n",
        "median_ascites = df['ASCITES'].median()\n",
        "df['ASCITES']=df['ASCITES'].fillna(median_ascites)\n",
        "\n",
        "median_varices = df['VARICES'].median()\n",
        "df['VARICES']=df['VARICES'].fillna(median_varices)\n",
        "\n",
        "median_bilirubin = df['BILIRUBIN'].median()\n",
        "df['BILIRUBIN']=df['BILIRUBIN'].fillna(median_bilirubin)\n",
        "\n",
        "median_alk = df['ALK PHOSPHATE'].median()\n",
        "df['ALK PHOSPHATE']=df['ALK PHOSPHATE'].fillna(median_alk)\n",
        "\n",
        "median_sgot = df['SGOT'].median()\n",
        "df['SGOT']=df['SGOT'].fillna(median_sgot)\n",
        "\n",
        "median_albumin = df['ALBUMIN'].median()\n",
        "df['ALBUMIN']=df['ALBUMIN'].fillna(median_albumin)\n",
        "\n",
        "median_protime = df['PROTIME'].median()\n",
        "df['PROTIME']=df['PROTIME'].fillna(median_protime)"
      ],
      "metadata": {
        "id": "250ezWQIiOID"
      },
      "execution_count": 21,
      "outputs": []
    },
    {
      "cell_type": "code",
      "source": [
        "# Melihat kembali nilai kosong (NaN) kosong setelah diisi menggunakan nilai median\n",
        "df.isnull().sum()"
      ],
      "metadata": {
        "colab": {
          "base_uri": "https://localhost:8080/"
        },
        "id": "WLzTCf1ElsDN",
        "outputId": "66bf7bb2-06e0-4757-a0aa-c2a59a351b01"
      },
      "execution_count": 22,
      "outputs": [
        {
          "output_type": "execute_result",
          "data": {
            "text/plain": [
              "Class              0\n",
              "AGE                0\n",
              "SEX                0\n",
              "STEROID            0\n",
              "ANTIVIRALS         0\n",
              "FATIGUE            0\n",
              "MALAISE            0\n",
              "ANOREXIA           0\n",
              "LIVER BIG          0\n",
              "LIVER FIRM         0\n",
              "SPLEEN PALPABLE    0\n",
              "SPIDERS            0\n",
              "ASCITES            0\n",
              "VARICES            0\n",
              "BILIRUBIN          0\n",
              "ALK PHOSPHATE      0\n",
              "SGOT               0\n",
              "ALBUMIN            0\n",
              "PROTIME            0\n",
              "HISTOLOGY          0\n",
              "dtype: int64"
            ]
          },
          "metadata": {},
          "execution_count": 22
        }
      ]
    },
    {
      "cell_type": "markdown",
      "source": [
        "Dataset sudah bersih"
      ],
      "metadata": {
        "id": "UOzn4zHRmykt"
      }
    },
    {
      "cell_type": "code",
      "source": [
        "# Menghapus fitur yang bernilai konstant\n",
        "df = df.loc[:, df.apply(pd.Series.nunique) !=1]\n",
        "df.shape"
      ],
      "metadata": {
        "colab": {
          "base_uri": "https://localhost:8080/"
        },
        "id": "06TnJb7kmYMJ",
        "outputId": "a5a66501-4dc0-4623-c5f5-2016f8d36fab"
      },
      "execution_count": 23,
      "outputs": [
        {
          "output_type": "execute_result",
          "data": {
            "text/plain": [
              "(155, 20)"
            ]
          },
          "metadata": {},
          "execution_count": 23
        }
      ]
    },
    {
      "cell_type": "markdown",
      "source": [
        "# 6) Mengkontruksi Data\n",
        "\n",
        "terdiri dari :\n",
        "*   Representasi fitur dan merubah tipenya.\n",
        "*   Membagi data menjadi training dan testing.\n",
        "*   Membandingkan Data Original, Data Normalisasi, Data Original PCA, Data Normalisasi PCA"
      ],
      "metadata": {
        "id": "SKeE-9-AnEZ2"
      }
    },
    {
      "cell_type": "code",
      "source": [
        "# Mengecek Representasi Fitur\n",
        "df.info()"
      ],
      "metadata": {
        "colab": {
          "base_uri": "https://localhost:8080/"
        },
        "id": "--DAdhkOm7pu",
        "outputId": "5cf24536-aa38-41e5-ad69-0f5f0514a758"
      },
      "execution_count": 24,
      "outputs": [
        {
          "output_type": "stream",
          "name": "stdout",
          "text": [
            "<class 'pandas.core.frame.DataFrame'>\n",
            "RangeIndex: 155 entries, 0 to 154\n",
            "Data columns (total 20 columns):\n",
            " #   Column           Non-Null Count  Dtype \n",
            "---  ------           --------------  ----- \n",
            " 0   Class            155 non-null    int64 \n",
            " 1   AGE              155 non-null    int64 \n",
            " 2   SEX              155 non-null    int64 \n",
            " 3   STEROID          155 non-null    object\n",
            " 4   ANTIVIRALS       155 non-null    int64 \n",
            " 5   FATIGUE          155 non-null    object\n",
            " 6   MALAISE          155 non-null    object\n",
            " 7   ANOREXIA         155 non-null    object\n",
            " 8   LIVER BIG        155 non-null    object\n",
            " 9   LIVER FIRM       155 non-null    object\n",
            " 10  SPLEEN PALPABLE  155 non-null    object\n",
            " 11  SPIDERS          155 non-null    object\n",
            " 12  ASCITES          155 non-null    object\n",
            " 13  VARICES          155 non-null    object\n",
            " 14  BILIRUBIN        155 non-null    object\n",
            " 15  ALK PHOSPHATE    155 non-null    object\n",
            " 16  SGOT             155 non-null    object\n",
            " 17  ALBUMIN          155 non-null    object\n",
            " 18  PROTIME          155 non-null    object\n",
            " 19  HISTOLOGY        155 non-null    int64 \n",
            "dtypes: int64(5), object(15)\n",
            "memory usage: 24.3+ KB\n"
          ]
        }
      ]
    },
    {
      "cell_type": "code",
      "source": [
        "# Mengubah yang tipe Object menjadi int64\n",
        "df[\"STEROID\"] = df[\"STEROID\"].astype('int64')\n",
        "df[\"FATIGUE\"] = df[\"FATIGUE\"].astype('int64')\n",
        "df[\"MALAISE\"] = df[\"MALAISE\"].astype('int64')\n",
        "df[\"ANOREXIA\"] = df[\"ANOREXIA\"].astype('int64')\n",
        "df[\"LIVER BIG\"] = df[\"LIVER BIG\"].astype('int64')\n",
        "df[\"LIVER FIRM\"] = df[\"LIVER FIRM\"].astype('int64')\n",
        "df[\"SPLEEN PALPABLE\"] = df[\"SPLEEN PALPABLE\"].astype('int64')\n",
        "df[\"SPIDERS\"] = df[\"SPIDERS\"].astype('int64')\n",
        "df[\"ASCITES\"] = df[\"ASCITES\"].astype('int64')\n",
        "df[\"VARICES\"] = df[\"VARICES\"].astype('int64')\n",
        "df[\"BILIRUBIN\"] = df[\"BILIRUBIN\"].astype('float')\n",
        "df[\"ALK PHOSPHATE\"] = df[\"ALK PHOSPHATE\"].astype('int64')\n",
        "df[\"SGOT\"] = df[\"SGOT\"].astype('int64')\n",
        "df[\"ALBUMIN\"] = df[\"ALBUMIN\"].astype('float')\n",
        "df[\"PROTIME\"] = df[\"PROTIME\"].astype('int64')"
      ],
      "metadata": {
        "id": "dTwAQenHnVxU"
      },
      "execution_count": 25,
      "outputs": []
    },
    {
      "cell_type": "code",
      "source": [
        "# melihat kembali data yang sudah diganti tipe datanya\n",
        "df.info()"
      ],
      "metadata": {
        "colab": {
          "base_uri": "https://localhost:8080/"
        },
        "id": "lsCljdlqod2V",
        "outputId": "4bc17997-5b55-492b-8ec0-f80913861e80"
      },
      "execution_count": 26,
      "outputs": [
        {
          "output_type": "stream",
          "name": "stdout",
          "text": [
            "<class 'pandas.core.frame.DataFrame'>\n",
            "RangeIndex: 155 entries, 0 to 154\n",
            "Data columns (total 20 columns):\n",
            " #   Column           Non-Null Count  Dtype  \n",
            "---  ------           --------------  -----  \n",
            " 0   Class            155 non-null    int64  \n",
            " 1   AGE              155 non-null    int64  \n",
            " 2   SEX              155 non-null    int64  \n",
            " 3   STEROID          155 non-null    int64  \n",
            " 4   ANTIVIRALS       155 non-null    int64  \n",
            " 5   FATIGUE          155 non-null    int64  \n",
            " 6   MALAISE          155 non-null    int64  \n",
            " 7   ANOREXIA         155 non-null    int64  \n",
            " 8   LIVER BIG        155 non-null    int64  \n",
            " 9   LIVER FIRM       155 non-null    int64  \n",
            " 10  SPLEEN PALPABLE  155 non-null    int64  \n",
            " 11  SPIDERS          155 non-null    int64  \n",
            " 12  ASCITES          155 non-null    int64  \n",
            " 13  VARICES          155 non-null    int64  \n",
            " 14  BILIRUBIN        155 non-null    float64\n",
            " 15  ALK PHOSPHATE    155 non-null    int64  \n",
            " 16  SGOT             155 non-null    int64  \n",
            " 17  ALBUMIN          155 non-null    float64\n",
            " 18  PROTIME          155 non-null    int64  \n",
            " 19  HISTOLOGY        155 non-null    int64  \n",
            "dtypes: float64(2), int64(18)\n",
            "memory usage: 24.3 KB\n"
          ]
        }
      ]
    },
    {
      "cell_type": "code",
      "source": [
        "# Membagi Training dan Testing\n",
        "X = df.iloc[:,1:57]\n",
        "y = df['Class']\n",
        "# Menampilkan X\n",
        "X.head()"
      ],
      "metadata": {
        "colab": {
          "base_uri": "https://localhost:8080/",
          "height": 206
        },
        "id": "WbaMbUQ5pHbs",
        "outputId": "0125723c-0030-43f8-f827-2247c0992d04"
      },
      "execution_count": 27,
      "outputs": [
        {
          "output_type": "execute_result",
          "data": {
            "text/plain": [
              "   AGE  SEX  STEROID  ANTIVIRALS  FATIGUE  MALAISE  ANOREXIA  LIVER BIG  \\\n",
              "0   30    2        1           2        2        2         2          1   \n",
              "1   50    1        1           2        1        2         2          1   \n",
              "2   78    1        2           2        1        2         2          2   \n",
              "3   31    1        2           1        2        2         2          2   \n",
              "4   34    1        2           2        2        2         2          2   \n",
              "\n",
              "   LIVER FIRM  SPLEEN PALPABLE  SPIDERS  ASCITES  VARICES  BILIRUBIN  \\\n",
              "0           2                2        2        2        2        1.0   \n",
              "1           2                2        2        2        2        0.9   \n",
              "2           2                2        2        2        2        0.7   \n",
              "3           2                2        2        2        2        0.7   \n",
              "4           2                2        2        2        2        1.0   \n",
              "\n",
              "   ALK PHOSPHATE  SGOT  ALBUMIN  PROTIME  HISTOLOGY  \n",
              "0             85    18      4.0       61          1  \n",
              "1            135    42      3.5       61          1  \n",
              "2             96    32      4.0       61          1  \n",
              "3             46    52      4.0       80          1  \n",
              "4             85   200      4.0       61          1  "
            ],
            "text/html": [
              "\n",
              "  <div id=\"df-fbcdc60e-92fa-44fe-af7c-63ecba9d713b\">\n",
              "    <div class=\"colab-df-container\">\n",
              "      <div>\n",
              "<style scoped>\n",
              "    .dataframe tbody tr th:only-of-type {\n",
              "        vertical-align: middle;\n",
              "    }\n",
              "\n",
              "    .dataframe tbody tr th {\n",
              "        vertical-align: top;\n",
              "    }\n",
              "\n",
              "    .dataframe thead th {\n",
              "        text-align: right;\n",
              "    }\n",
              "</style>\n",
              "<table border=\"1\" class=\"dataframe\">\n",
              "  <thead>\n",
              "    <tr style=\"text-align: right;\">\n",
              "      <th></th>\n",
              "      <th>AGE</th>\n",
              "      <th>SEX</th>\n",
              "      <th>STEROID</th>\n",
              "      <th>ANTIVIRALS</th>\n",
              "      <th>FATIGUE</th>\n",
              "      <th>MALAISE</th>\n",
              "      <th>ANOREXIA</th>\n",
              "      <th>LIVER BIG</th>\n",
              "      <th>LIVER FIRM</th>\n",
              "      <th>SPLEEN PALPABLE</th>\n",
              "      <th>SPIDERS</th>\n",
              "      <th>ASCITES</th>\n",
              "      <th>VARICES</th>\n",
              "      <th>BILIRUBIN</th>\n",
              "      <th>ALK PHOSPHATE</th>\n",
              "      <th>SGOT</th>\n",
              "      <th>ALBUMIN</th>\n",
              "      <th>PROTIME</th>\n",
              "      <th>HISTOLOGY</th>\n",
              "    </tr>\n",
              "  </thead>\n",
              "  <tbody>\n",
              "    <tr>\n",
              "      <th>0</th>\n",
              "      <td>30</td>\n",
              "      <td>2</td>\n",
              "      <td>1</td>\n",
              "      <td>2</td>\n",
              "      <td>2</td>\n",
              "      <td>2</td>\n",
              "      <td>2</td>\n",
              "      <td>1</td>\n",
              "      <td>2</td>\n",
              "      <td>2</td>\n",
              "      <td>2</td>\n",
              "      <td>2</td>\n",
              "      <td>2</td>\n",
              "      <td>1.0</td>\n",
              "      <td>85</td>\n",
              "      <td>18</td>\n",
              "      <td>4.0</td>\n",
              "      <td>61</td>\n",
              "      <td>1</td>\n",
              "    </tr>\n",
              "    <tr>\n",
              "      <th>1</th>\n",
              "      <td>50</td>\n",
              "      <td>1</td>\n",
              "      <td>1</td>\n",
              "      <td>2</td>\n",
              "      <td>1</td>\n",
              "      <td>2</td>\n",
              "      <td>2</td>\n",
              "      <td>1</td>\n",
              "      <td>2</td>\n",
              "      <td>2</td>\n",
              "      <td>2</td>\n",
              "      <td>2</td>\n",
              "      <td>2</td>\n",
              "      <td>0.9</td>\n",
              "      <td>135</td>\n",
              "      <td>42</td>\n",
              "      <td>3.5</td>\n",
              "      <td>61</td>\n",
              "      <td>1</td>\n",
              "    </tr>\n",
              "    <tr>\n",
              "      <th>2</th>\n",
              "      <td>78</td>\n",
              "      <td>1</td>\n",
              "      <td>2</td>\n",
              "      <td>2</td>\n",
              "      <td>1</td>\n",
              "      <td>2</td>\n",
              "      <td>2</td>\n",
              "      <td>2</td>\n",
              "      <td>2</td>\n",
              "      <td>2</td>\n",
              "      <td>2</td>\n",
              "      <td>2</td>\n",
              "      <td>2</td>\n",
              "      <td>0.7</td>\n",
              "      <td>96</td>\n",
              "      <td>32</td>\n",
              "      <td>4.0</td>\n",
              "      <td>61</td>\n",
              "      <td>1</td>\n",
              "    </tr>\n",
              "    <tr>\n",
              "      <th>3</th>\n",
              "      <td>31</td>\n",
              "      <td>1</td>\n",
              "      <td>2</td>\n",
              "      <td>1</td>\n",
              "      <td>2</td>\n",
              "      <td>2</td>\n",
              "      <td>2</td>\n",
              "      <td>2</td>\n",
              "      <td>2</td>\n",
              "      <td>2</td>\n",
              "      <td>2</td>\n",
              "      <td>2</td>\n",
              "      <td>2</td>\n",
              "      <td>0.7</td>\n",
              "      <td>46</td>\n",
              "      <td>52</td>\n",
              "      <td>4.0</td>\n",
              "      <td>80</td>\n",
              "      <td>1</td>\n",
              "    </tr>\n",
              "    <tr>\n",
              "      <th>4</th>\n",
              "      <td>34</td>\n",
              "      <td>1</td>\n",
              "      <td>2</td>\n",
              "      <td>2</td>\n",
              "      <td>2</td>\n",
              "      <td>2</td>\n",
              "      <td>2</td>\n",
              "      <td>2</td>\n",
              "      <td>2</td>\n",
              "      <td>2</td>\n",
              "      <td>2</td>\n",
              "      <td>2</td>\n",
              "      <td>2</td>\n",
              "      <td>1.0</td>\n",
              "      <td>85</td>\n",
              "      <td>200</td>\n",
              "      <td>4.0</td>\n",
              "      <td>61</td>\n",
              "      <td>1</td>\n",
              "    </tr>\n",
              "  </tbody>\n",
              "</table>\n",
              "</div>\n",
              "      <button class=\"colab-df-convert\" onclick=\"convertToInteractive('df-fbcdc60e-92fa-44fe-af7c-63ecba9d713b')\"\n",
              "              title=\"Convert this dataframe to an interactive table.\"\n",
              "              style=\"display:none;\">\n",
              "        \n",
              "  <svg xmlns=\"http://www.w3.org/2000/svg\" height=\"24px\"viewBox=\"0 0 24 24\"\n",
              "       width=\"24px\">\n",
              "    <path d=\"M0 0h24v24H0V0z\" fill=\"none\"/>\n",
              "    <path d=\"M18.56 5.44l.94 2.06.94-2.06 2.06-.94-2.06-.94-.94-2.06-.94 2.06-2.06.94zm-11 1L8.5 8.5l.94-2.06 2.06-.94-2.06-.94L8.5 2.5l-.94 2.06-2.06.94zm10 10l.94 2.06.94-2.06 2.06-.94-2.06-.94-.94-2.06-.94 2.06-2.06.94z\"/><path d=\"M17.41 7.96l-1.37-1.37c-.4-.4-.92-.59-1.43-.59-.52 0-1.04.2-1.43.59L10.3 9.45l-7.72 7.72c-.78.78-.78 2.05 0 2.83L4 21.41c.39.39.9.59 1.41.59.51 0 1.02-.2 1.41-.59l7.78-7.78 2.81-2.81c.8-.78.8-2.07 0-2.86zM5.41 20L4 18.59l7.72-7.72 1.47 1.35L5.41 20z\"/>\n",
              "  </svg>\n",
              "      </button>\n",
              "      \n",
              "  <style>\n",
              "    .colab-df-container {\n",
              "      display:flex;\n",
              "      flex-wrap:wrap;\n",
              "      gap: 12px;\n",
              "    }\n",
              "\n",
              "    .colab-df-convert {\n",
              "      background-color: #E8F0FE;\n",
              "      border: none;\n",
              "      border-radius: 50%;\n",
              "      cursor: pointer;\n",
              "      display: none;\n",
              "      fill: #1967D2;\n",
              "      height: 32px;\n",
              "      padding: 0 0 0 0;\n",
              "      width: 32px;\n",
              "    }\n",
              "\n",
              "    .colab-df-convert:hover {\n",
              "      background-color: #E2EBFA;\n",
              "      box-shadow: 0px 1px 2px rgba(60, 64, 67, 0.3), 0px 1px 3px 1px rgba(60, 64, 67, 0.15);\n",
              "      fill: #174EA6;\n",
              "    }\n",
              "\n",
              "    [theme=dark] .colab-df-convert {\n",
              "      background-color: #3B4455;\n",
              "      fill: #D2E3FC;\n",
              "    }\n",
              "\n",
              "    [theme=dark] .colab-df-convert:hover {\n",
              "      background-color: #434B5C;\n",
              "      box-shadow: 0px 1px 3px 1px rgba(0, 0, 0, 0.15);\n",
              "      filter: drop-shadow(0px 1px 2px rgba(0, 0, 0, 0.3));\n",
              "      fill: #FFFFFF;\n",
              "    }\n",
              "  </style>\n",
              "\n",
              "      <script>\n",
              "        const buttonEl =\n",
              "          document.querySelector('#df-fbcdc60e-92fa-44fe-af7c-63ecba9d713b button.colab-df-convert');\n",
              "        buttonEl.style.display =\n",
              "          google.colab.kernel.accessAllowed ? 'block' : 'none';\n",
              "\n",
              "        async function convertToInteractive(key) {\n",
              "          const element = document.querySelector('#df-fbcdc60e-92fa-44fe-af7c-63ecba9d713b');\n",
              "          const dataTable =\n",
              "            await google.colab.kernel.invokeFunction('convertToInteractive',\n",
              "                                                     [key], {});\n",
              "          if (!dataTable) return;\n",
              "\n",
              "          const docLinkHtml = 'Like what you see? Visit the ' +\n",
              "            '<a target=\"_blank\" href=https://colab.research.google.com/notebooks/data_table.ipynb>data table notebook</a>'\n",
              "            + ' to learn more about interactive tables.';\n",
              "          element.innerHTML = '';\n",
              "          dataTable['output_type'] = 'display_data';\n",
              "          await google.colab.output.renderOutput(dataTable, element);\n",
              "          const docLink = document.createElement('div');\n",
              "          docLink.innerHTML = docLinkHtml;\n",
              "          element.appendChild(docLink);\n",
              "        }\n",
              "      </script>\n",
              "    </div>\n",
              "  </div>\n",
              "  "
            ]
          },
          "metadata": {},
          "execution_count": 27
        }
      ]
    },
    {
      "cell_type": "code",
      "source": [
        "# Menampilkan y\n",
        "y.head()"
      ],
      "metadata": {
        "colab": {
          "base_uri": "https://localhost:8080/"
        },
        "id": "AsocY5a2pOp1",
        "outputId": "e97d3be1-b170-4115-c093-f273684a669b"
      },
      "execution_count": 28,
      "outputs": [
        {
          "output_type": "execute_result",
          "data": {
            "text/plain": [
              "0    2\n",
              "1    2\n",
              "2    2\n",
              "3    2\n",
              "4    2\n",
              "Name: Class, dtype: int64"
            ]
          },
          "metadata": {},
          "execution_count": 28
        }
      ]
    },
    {
      "cell_type": "code",
      "source": [
        "# menghandle imbalance data\n",
        "from imblearn.under_sampling import RandomUnderSampler\n",
        "from imblearn.over_sampling import RandomOverSampler\n",
        "from collections import Counter\n",
        "# instantiating the random over sampler \n",
        "# ros = RandomOverSampler()\n",
        "# resampling X, y\n",
        "# X_ros, y_ros = ros.fit_resample(X, y)\n",
        "# new class distribution \n",
        "# print(Counter(y_ros))\n",
        "\n",
        "undersample = RandomUnderSampler(sampling_strategy='majority')\n",
        "# fit and apply the transform\n",
        "X_rus, y_rus = undersample.fit_resample(X, y)\n",
        "# summarize class distribution\n",
        "print(Counter(y_rus))"
      ],
      "metadata": {
        "colab": {
          "base_uri": "https://localhost:8080/"
        },
        "id": "Ew5GOPjl9b7G",
        "outputId": "d5559945-98e4-42d4-abc4-fd4a10c3be05"
      },
      "execution_count": 29,
      "outputs": [
        {
          "output_type": "stream",
          "name": "stdout",
          "text": [
            "Counter({1: 32, 2: 32})\n"
          ]
        }
      ]
    },
    {
      "cell_type": "markdown",
      "source": [
        "## Data Normalisasi"
      ],
      "metadata": {
        "id": "Y6WW90xlp5Vm"
      }
    },
    {
      "cell_type": "code",
      "source": [
        "# Normalisasi menggunakan StandardScaler\n",
        "\n",
        "X_norm = StandardScaler().fit_transform(X_rus)\n",
        "# X_norm = MinMaxScaler().fit_transform(X_rus)\n",
        "# Melihat hasil normalisasi dengan StandardScaler\n",
        "X_norm"
      ],
      "metadata": {
        "colab": {
          "base_uri": "https://localhost:8080/"
        },
        "id": "Yxbh0YYVp79F",
        "outputId": "43e3435e-d8f5-4f12-957a-7fb4b549b034"
      },
      "execution_count": 30,
      "outputs": [
        {
          "output_type": "execute_result",
          "data": {
            "text/plain": [
              "array([[ 0.53833541, -0.25819889, -0.93933644, ...,  0.61010798,\n",
              "         0.33745166, -1.13389342],\n",
              "       [-0.47500183, -0.25819889, -0.93933644, ...,  0.31203996,\n",
              "        -1.08428825, -1.13389342],\n",
              "       [ 1.46722788, -0.25819889, -0.93933644, ...,  0.61010798,\n",
              "         0.33745166, -1.13389342],\n",
              "       ...,\n",
              "       [ 0.53833541, -0.25819889, -0.93933644, ...,  1.50431203,\n",
              "        -0.27186544, -1.13389342],\n",
              "       [-1.15055999, -0.25819889,  1.06458129, ...,  0.61010798,\n",
              "         1.62378777, -1.13389342],\n",
              "       [-0.89722568, -0.25819889, -0.93933644, ...,  0.61010798,\n",
              "         0.33745166, -1.13389342]])"
            ]
          },
          "metadata": {},
          "execution_count": 30
        }
      ]
    },
    {
      "cell_type": "code",
      "source": [
        "X_train_norm, X_test_norm, Y_train_norm, Y_test_norm = train_test_split(X_norm,y_rus, test_size=0.3, random_state=2022)"
      ],
      "metadata": {
        "id": "XReaN2D0qBPc"
      },
      "execution_count": 31,
      "outputs": []
    },
    {
      "cell_type": "markdown",
      "source": [
        "## Data Normalisasi PCA"
      ],
      "metadata": {
        "id": "wVXm3HtoP_24"
      }
    },
    {
      "cell_type": "code",
      "source": [
        "pca = PCA(random_state=2022)\n",
        "pca.fit(X_norm)\n",
        "norm_pca_array = pca.transform(X_norm)\n",
        "norm_pca = pd.DataFrame(norm_pca_array)\n",
        "print(\"Heads of iris_pca:\",norm_pca.head())\n",
        "var_ratio = pca.explained_variance_ratio_\n",
        "print(\"\\n Explained variance ratio:\",var_ratio)\n",
        "sv = pca.singular_values_\n",
        "print(\"\\n Singular Value:\",sv)"
      ],
      "metadata": {
        "colab": {
          "base_uri": "https://localhost:8080/"
        },
        "id": "KUi6CP-MODQS",
        "outputId": "9fcde00d-dc0e-4fe1-ebfd-243dd5438842"
      },
      "execution_count": 32,
      "outputs": [
        {
          "output_type": "stream",
          "name": "stdout",
          "text": [
            "Heads of iris_pca:          0         1         2         3         4         5         6   \\\n",
            "0 -0.016705  0.033107  1.101511  0.693178  1.703206 -0.645980 -1.577312   \n",
            "1  0.020621  2.534101 -1.130841  0.227594 -2.286202  1.325905  1.525389   \n",
            "2 -0.900206  0.716250  1.300475  1.620073  0.287762  0.522220  0.486531   \n",
            "3 -1.626213 -1.257950  0.231672  0.261137  0.643807  0.425539 -1.122301   \n",
            "4  1.981719 -1.206680  1.791695 -0.621887  0.554751  2.032700 -0.565490   \n",
            "\n",
            "         7         8         9         10        11        12        13  \\\n",
            "0  0.109443  0.023365  1.191050 -0.041429 -1.318269  0.964270 -0.701659   \n",
            "1  0.610874  1.865069  1.931798  0.553438 -1.415129  0.005032 -0.256127   \n",
            "2 -0.774072 -0.164105  0.144703  0.803640 -0.281901 -0.668313  1.010512   \n",
            "3 -1.471573  0.566311  0.197330  0.082500  0.157569  0.572349 -0.605459   \n",
            "4 -0.784632 -1.829417  1.261610 -0.443682 -0.568540 -0.960739 -0.685896   \n",
            "\n",
            "         14        15        16        17        18  \n",
            "0  0.898375 -1.066122  0.696094  0.072336  0.785047  \n",
            "1 -1.056752  0.342760 -0.070894 -0.288446  0.344027  \n",
            "2  0.117377 -0.466277  0.334337  0.338302 -0.124443  \n",
            "3 -0.484412  0.056922  0.564372 -0.197220 -0.170239  \n",
            "4  0.108693 -0.342188  0.106772  0.326471 -0.197006  \n",
            "\n",
            " Explained variance ratio: [0.22871599 0.10533552 0.08835749 0.07851472 0.06282379 0.05956724\n",
            " 0.05553    0.05094728 0.04429367 0.04269965 0.0364951  0.02884859\n",
            " 0.02500693 0.02473559 0.0204959  0.01329415 0.01284643 0.01181668\n",
            " 0.0096753 ]\n",
            "\n",
            " Singular Value: [16.67688953 11.31759654 10.36545747  9.77107442  8.74035033  8.51080295\n",
            "  8.21732804  7.87095245  7.33901254  7.20574562  6.66168419  5.92282709\n",
            "  5.51438311  5.48438477  4.99229519  4.02065778  3.9523745   3.79065702\n",
            "  3.43003827]\n"
          ]
        }
      ]
    },
    {
      "cell_type": "code",
      "source": [
        "# Visualisasi Data Normalisasi PCA\n",
        "cum_var_ratio = np.cumsum(var_ratio)\n",
        "plt.figure(figsize=(10, 5))\n",
        "plt.bar(range(len(var_ratio)),\n",
        "var_ratio,\n",
        "alpha=0.3333,\n",
        "align='center',\n",
        "label='individual explained variance',\n",
        "color = 'g')\n",
        "plt.step(range(len(cum_var_ratio)),\n",
        "cum_var_ratio,\n",
        "where='mid',\n",
        "label='cumulative explained variance')\n",
        "plt.ylabel('Explained variance ratio')\n",
        "plt.xlabel('Principal components')\n",
        "plt.legend(loc='best')\n",
        "plt.show()\n",
        "print(\"Cumulative explained ratio:\",cum_var_ratio)"
      ],
      "metadata": {
        "colab": {
          "base_uri": "https://localhost:8080/",
          "height": 418
        },
        "id": "myYF0KNsOclx",
        "outputId": "cd9cc45f-9fd6-45e5-d77f-87dc32aac06b"
      },
      "execution_count": 33,
      "outputs": [
        {
          "output_type": "display_data",
          "data": {
            "text/plain": [
              "<Figure size 720x360 with 1 Axes>"
            ],
            "image/png": "[encoded data removed]"
          },
          "metadata": {}
        },
        {
          "output_type": "stream",
          "name": "stdout",
          "text": [
            "Cumulative explained ratio: [0.22871599 0.33405151 0.422409   0.50092372 0.5637475  0.62331475\n",
            " 0.67884475 0.72979203 0.7740857  0.81678534 0.85328044 0.88212903\n",
            " 0.90713595 0.93187154 0.95236744 0.96566159 0.97850802 0.9903247\n",
            " 1.        ]\n"
          ]
        }
      ]
    },
    {
      "cell_type": "code",
      "source": [
        "# Dipilih 18 PC\n",
        "pca = PCA(n_components=18, random_state=2022)\n",
        "pca.fit(X_norm)\n",
        "norm_pca_array = pca.transform(X_norm)\n",
        "norm_pca = pd.DataFrame(data=norm_pca_array, columns = ['PC1', 'PC2','PC3','PC4','PC5','PC6','PC7','PC8','PC9','PC10','PC11','PC12','PC13','PC14','PC15','PC16','PC17','PC18'])"
      ],
      "metadata": {
        "id": "IXc2Y21oODfK"
      },
      "execution_count": 34,
      "outputs": []
    },
    {
      "cell_type": "code",
      "source": [
        "X_train_norm_pca, X_test_norm_pca, Y_train_norm_pca, Y_test_norm_pca = train_test_split(norm_pca,y_rus, test_size=0.3, random_state=2022)"
      ],
      "metadata": {
        "id": "LH74-AU_OpA8"
      },
      "execution_count": 35,
      "outputs": []
    },
    {
      "cell_type": "markdown",
      "source": [
        "# 7) Menentukan Label Data\n",
        "\n",
        "Class 1 adalah pasien yang meninggal, Class 2 adalah pasien yang hidup"
      ],
      "metadata": {
        "id": "A5AVncMho4yP"
      }
    },
    {
      "cell_type": "markdown",
      "source": [
        "# 8) Membangun Model\n",
        "\n",
        "*   Teknik Pemodelan yang dipakai:\n",
        "    *   Menggunakan Decision Tree\n",
        "    *   Parameter yang dipakai:\n",
        "        *   [criterion: gini, entropy]\n",
        "        *   [max_depth]\n",
        "        *   [min sample split]\n",
        "        *   [min sample leaf]\n",
        "*   Skenario Pengujian\n",
        "    * Menggunakan akurasi, presisi dan recall.\n",
        "    * Pengujian menggunakan Data Original.\n",
        "    * Pengujian menggunakan Data yang sudah dinormalisasi.\n",
        "    * Pengujian menggunakan Data Original yang diberikan PCA.\n",
        "    * Pengujian menggunakan Data yang sudah dinormalisasi dan diberikan PCA."
      ],
      "metadata": {
        "id": "D5VO6OIQqrfw"
      }
    },
    {
      "cell_type": "markdown",
      "source": [
        "## Decission Tree"
      ],
      "metadata": {
        "id": "Vb8SEVIIq2NQ"
      }
    },
    {
      "cell_type": "code",
      "source": [
        "# Pemodelan Decision Tree\n",
        "classifier_dt_pipeline = Pipeline([\n",
        "\n",
        "('model',DecisionTreeClassifier()),\n",
        "])"
      ],
      "metadata": {
        "id": "VxXKOtf8ptCi"
      },
      "execution_count": 36,
      "outputs": []
    },
    {
      "cell_type": "code",
      "source": [
        "# menyiapkan parameter yang digunakan\n",
        "parameters_dt = {\n",
        "\n",
        "\"model__max_depth\": np.arange(1,21),\n",
        "\"model__min_samples_leaf\": np.arange(1,101,2),\n",
        "\"model__min_samples_split\": np.arange(2,11),\n",
        "\"model__criterion\": ['gini','entropy'],\n",
        "\"model__random_state\": [2022]\n",
        "\n",
        "}"
      ],
      "metadata": {
        "id": "sM96rJlFq-fS"
      },
      "execution_count": 37,
      "outputs": []
    },
    {
      "cell_type": "markdown",
      "source": [
        "## Pemodelan Decision Tree dengan Data Normalisasi tapi diberikan PCA"
      ],
      "metadata": {
        "id": "F-NxGYvKO6S4"
      }
    },
    {
      "cell_type": "code",
      "source": [
        "norm_pca_classifier_dt = GridSearchCV(classifier_dt_pipeline, parameters_dt, cv=3, n_jobs=-1)"
      ],
      "metadata": {
        "id": "Tuxy3s4cO5w1"
      },
      "execution_count": 38,
      "outputs": []
    },
    {
      "cell_type": "code",
      "source": [
        "norm_pca_classifier_dt.fit(X_train_norm_pca,Y_train_norm_pca.ravel())"
      ],
      "metadata": {
        "colab": {
          "base_uri": "https://localhost:8080/"
        },
        "id": "GAk3ZaHkPOcd",
        "outputId": "3caae94c-6eb5-421e-da21-f49281348960"
      },
      "execution_count": 39,
      "outputs": [
        {
          "output_type": "execute_result",
          "data": {
            "text/plain": [
              "GridSearchCV(cv=3,\n",
              "             estimator=Pipeline(steps=[('model', DecisionTreeClassifier())]),\n",
              "             n_jobs=-1,\n",
              "             param_grid={'model__criterion': ['gini', 'entropy'],\n",
              "                         'model__max_depth': array([ 1,  2,  3,  4,  5,  6,  7,  8,  9, 10, 11, 12, 13, 14, 15, 16, 17,\n",
              "       18, 19, 20]),\n",
              "                         'model__min_samples_leaf': array([ 1,  3,  5,  7,  9, 11, 13, 15, 17, 19, 21, 23, 25, 27, 29, 31, 33,\n",
              "       35, 37, 39, 41, 43, 45, 47, 49, 51, 53, 55, 57, 59, 61, 63, 65, 67,\n",
              "       69, 71, 73, 75, 77, 79, 81, 83, 85, 87, 89, 91, 93, 95, 97, 99]),\n",
              "                         'model__min_samples_split': array([ 2,  3,  4,  5,  6,  7,  8,  9, 10]),\n",
              "                         'model__random_state': [2022]})"
            ]
          },
          "metadata": {},
          "execution_count": 39
        }
      ]
    },
    {
      "cell_type": "code",
      "source": [
        "norm_pca_classifier_dt.best_estimator_"
      ],
      "metadata": {
        "colab": {
          "base_uri": "https://localhost:8080/"
        },
        "id": "BCK4yLK7PTSI",
        "outputId": "808a26bf-578f-4c16-c049-e3812a32b002"
      },
      "execution_count": 40,
      "outputs": [
        {
          "output_type": "execute_result",
          "data": {
            "text/plain": [
              "Pipeline(steps=[('model',\n",
              "                 DecisionTreeClassifier(criterion='entropy', max_depth=3,\n",
              "                                        min_samples_leaf=3,\n",
              "                                        random_state=2022))])"
            ]
          },
          "metadata": {},
          "execution_count": 40
        }
      ]
    },
    {
      "cell_type": "code",
      "source": [
        "for param_name in sorted(parameters_dt.keys()):\n",
        "  print('%s: %r' %(param_name,norm_pca_classifier_dt.best_params_[param_name]))"
      ],
      "metadata": {
        "colab": {
          "base_uri": "https://localhost:8080/"
        },
        "id": "14LitdMXPUAV",
        "outputId": "db0bd30b-fdfd-4405-8238-7d6fe5e5debb"
      },
      "execution_count": 41,
      "outputs": [
        {
          "output_type": "stream",
          "name": "stdout",
          "text": [
            "model__criterion: 'entropy'\n",
            "model__max_depth: 3\n",
            "model__min_samples_leaf: 3\n",
            "model__min_samples_split: 2\n",
            "model__random_state: 2022\n"
          ]
        }
      ]
    },
    {
      "cell_type": "markdown",
      "source": [
        "## Naive Bayes"
      ],
      "metadata": {
        "id": "b8vGWojYTJd7"
      }
    },
    {
      "cell_type": "code",
      "source": [
        "from sklearn.naive_bayes import GaussianNB\n",
        "# Mengaktifkan/memanggil/membuat fungsi klasifikasi Naive Bayes\n",
        "modelnb = GaussianNB()\n",
        "# Memasukkan data training pada fungsi klasifikasi Naive Bayes\n",
        "nbtrain = modelnb.fit(X_train_norm_pca, Y_train_norm_pca)\n"
      ],
      "metadata": {
        "id": "oZCE4ammtJ9w"
      },
      "execution_count": 42,
      "outputs": []
    },
    {
      "cell_type": "markdown",
      "source": [
        "## KNN"
      ],
      "metadata": {
        "id": "ICMp3VgYYwnV"
      }
    },
    {
      "cell_type": "code",
      "source": [
        "from sklearn.neighbors import KNeighborsClassifier\n",
        "knn = KNeighborsClassifier()\n",
        "knn.fit(X_train_norm_pca, Y_train_norm_pca)"
      ],
      "metadata": {
        "colab": {
          "base_uri": "https://localhost:8080/"
        },
        "id": "uZheJE9FYsU5",
        "outputId": "b9212a7c-55a6-4807-fff3-7021c011ce82"
      },
      "execution_count": 43,
      "outputs": [
        {
          "output_type": "execute_result",
          "data": {
            "text/plain": [
              "KNeighborsClassifier()"
            ]
          },
          "metadata": {},
          "execution_count": 43
        }
      ]
    },
    {
      "cell_type": "markdown",
      "source": [
        "# 9) Mengevaluasi Pemodelan"
      ],
      "metadata": {
        "id": "lUMfWLsBrs3k"
      }
    },
    {
      "cell_type": "code",
      "source": [
        "norm_pca_y_pred_dt_train = norm_pca_classifier_dt.predict(X_train_norm_pca)\n",
        "norm_pca_accuracy_dt_train = accuracy_score(Y_train_norm_pca,norm_pca_y_pred_dt_train)\n",
        "print('Akurasi pada training set: ', norm_pca_accuracy_dt_train)\n",
        "norm_pca_precision_dt_train = precision_score(Y_train_norm_pca,norm_pca_y_pred_dt_train, average='micro')\n",
        "print('Precision pada training set: ', norm_pca_precision_dt_train)\n",
        "norm_pca_recall_dt_train = recall_score(Y_train_norm_pca,norm_pca_y_pred_dt_train, average='micro')\n",
        "print('Recall pada training set: ', norm_pca_recall_dt_train)\n",
        "norm_pca_y_pred_dt_test = norm_pca_classifier_dt.predict(X_test_norm_pca)\n",
        "norm_pca_accuracy_dt_test = accuracy_score(Y_test_norm_pca,norm_pca_y_pred_dt_test)\n",
        "print('Akurasi pada test set: ', norm_pca_accuracy_dt_test)\n",
        "norm_pca_precision_dt_test = precision_score(Y_test_norm_pca,norm_pca_y_pred_dt_test, average='micro')\n",
        "print('Precision pada test set: ', norm_pca_precision_dt_test)\n",
        "norm_pca_recall_dt_test = recall_score(Y_test_norm_pca,norm_pca_y_pred_dt_test, average='micro')\n",
        "print('Recall pada test set: ', norm_pca_recall_dt_test)"
      ],
      "metadata": {
        "colab": {
          "base_uri": "https://localhost:8080/"
        },
        "id": "mn4Fhs8fPd7H",
        "outputId": "ecd1e643-7356-40f3-b522-4cf3f7276dbd"
      },
      "execution_count": 44,
      "outputs": [
        {
          "output_type": "stream",
          "name": "stdout",
          "text": [
            "Akurasi pada training set:  0.9318181818181818\n",
            "Precision pada training set:  0.9318181818181818\n",
            "Recall pada training set:  0.9318181818181818\n",
            "Akurasi pada test set:  0.75\n",
            "Precision pada test set:  0.75\n",
            "Recall pada test set:  0.75\n"
          ]
        }
      ]
    },
    {
      "cell_type": "code",
      "source": [
        "# Visualisasi Confusion Matrix dengan Seaborn\n",
        "sns.heatmap(confusion_matrix(Y_test_norm_pca,norm_pca_y_pred_dt_test),annot=True,cmap='viridis', fmt='.0f')\n",
        "plt.xlabel('Predicted Values', fontdict={'size':14}, labelpad=10)\n",
        "plt.ylabel('Actual Values', fontdict={'size':14}, labelpad=10)\n",
        "plt.title('Confusion Matrix pada bagian testing untuk data asli')\n",
        "plt.show()"
      ],
      "metadata": {
        "colab": {
          "base_uri": "https://localhost:8080/",
          "height": 317
        },
        "id": "xn17tgyZTizN",
        "outputId": "4f9912f2-1e0e-4310-9b25-0deeda4c6fb6"
      },
      "execution_count": 45,
      "outputs": [
        {
          "output_type": "display_data",
          "data": {
            "text/plain": [
              "<Figure size 432x288 with 2 Axes>"
            ],
            "image/png": "[encoded data removed]"
          },
          "metadata": {}
        }
      ]
    },
    {
      "cell_type": "code",
      "source": [
        "norm_pca_y_pred_nb_train = nbtrain.predict(X_train_norm_pca)\n",
        "norm_pca_accuracy_nb_train = accuracy_score(Y_train_norm_pca,norm_pca_y_pred_nb_train)\n",
        "print('Akurasi pada training set: ', norm_pca_accuracy_nb_train)\n",
        "norm_pca_precision_nb_train = precision_score(Y_train_norm_pca,norm_pca_y_pred_nb_train, average='micro')\n",
        "print('Precision pada training set: ', norm_pca_precision_nb_train)\n",
        "norm_pca_recall_nb_train = recall_score(Y_train_norm_pca,norm_pca_y_pred_nb_train, average='micro')\n",
        "print('Recall pada training set: ', norm_pca_recall_nb_train)\n",
        "norm_pca_y_pred_nb_test = nbtrain.predict(X_test_norm_pca)\n",
        "norm_pca_accuracy_nb_test = accuracy_score(Y_test_norm_pca,norm_pca_y_pred_nb_test)\n",
        "print('Akurasi pada test set: ', norm_pca_accuracy_nb_test)\n",
        "norm_pca_precision_nb_test = precision_score(Y_test_norm_pca,norm_pca_y_pred_nb_test, average='micro')\n",
        "print('Precision pada test set: ', norm_pca_precision_nb_test)\n",
        "norm_pca_recall_nb_test = recall_score(Y_test_norm_pca,norm_pca_y_pred_nb_test, average='micro')\n",
        "print('Recall pada test set: ', norm_pca_recall_nb_test)"
      ],
      "metadata": {
        "id": "7DYfJG4440h7",
        "colab": {
          "base_uri": "https://localhost:8080/"
        },
        "outputId": "58181835-511a-4209-ee82-aa0a00876b66"
      },
      "execution_count": 46,
      "outputs": [
        {
          "output_type": "stream",
          "name": "stdout",
          "text": [
            "Akurasi pada training set:  0.9318181818181818\n",
            "Precision pada training set:  0.9318181818181818\n",
            "Recall pada training set:  0.9318181818181818\n",
            "Akurasi pada test set:  0.7\n",
            "Precision pada test set:  0.7\n",
            "Recall pada test set:  0.7\n"
          ]
        }
      ]
    },
    {
      "cell_type": "code",
      "source": [
        "# Visualisasi Confusion Matrix dengan Seaborn\n",
        "sns.heatmap(confusion_matrix(Y_test_norm_pca,norm_pca_y_pred_nb_test),annot=True,cmap='viridis', fmt='.0f')\n",
        "plt.xlabel('Predicted Values', fontdict={'size':14}, labelpad=10)\n",
        "plt.ylabel('Actual Values', fontdict={'size':14}, labelpad=10)\n",
        "plt.title('Confusion Matrix pada bagian testing untuk data asli')\n",
        "plt.show()"
      ],
      "metadata": {
        "colab": {
          "base_uri": "https://localhost:8080/",
          "height": 317
        },
        "id": "VxbE04WVSIKS",
        "outputId": "be7d245e-7a54-4f3e-8390-a1bbf2b76fe1"
      },
      "execution_count": 47,
      "outputs": [
        {
          "output_type": "display_data",
          "data": {
            "text/plain": [
              "<Figure size 432x288 with 2 Axes>"
            ],
            "image/png": "[encoded data removed]"
          },
          "metadata": {}
        }
      ]
    },
    {
      "cell_type": "code",
      "source": [
        "norm_pca_y_pred_knn_train = knn.predict(X_train_norm_pca)\n",
        "norm_pca_accuracy_knn_train = accuracy_score(Y_train_norm_pca,norm_pca_y_pred_knn_train)\n",
        "print('Akurasi pada training set: ', norm_pca_accuracy_knn_train)\n",
        "norm_pca_precision_knn_train = precision_score(Y_train_norm_pca,norm_pca_y_pred_knn_train, average='micro')\n",
        "print('Precision pada training set: ', norm_pca_precision_nb_train)\n",
        "norm_pca_recall_knn_train = recall_score(Y_train_norm_pca,norm_pca_y_pred_knn_train, average='micro')\n",
        "print('Recall pada training set: ', norm_pca_recall_nb_train)\n",
        "norm_pca_y_pred_knn_test = knn.predict(X_test_norm_pca)\n",
        "norm_pca_accuracy_knn_test = accuracy_score(Y_test_norm_pca,norm_pca_y_pred_knn_test)\n",
        "print('Akurasi pada test set: ', norm_pca_accuracy_knn_test)\n",
        "norm_pca_precision_knn_test = precision_score(Y_test_norm_pca,norm_pca_y_pred_knn_test, average='micro')\n",
        "print('Precision pada test set: ', norm_pca_precision_knn_test)\n",
        "norm_pca_recall_knn_test = recall_score(Y_test_norm_pca,norm_pca_y_pred_knn_test, average='micro')\n",
        "print('Recall pada test set: ', norm_pca_recall_knn_test)"
      ],
      "metadata": {
        "colab": {
          "base_uri": "https://localhost:8080/"
        },
        "id": "f0Pn0kNJZRkQ",
        "outputId": "99a33da2-bb1e-45fe-f84c-a097c36e347b"
      },
      "execution_count": 48,
      "outputs": [
        {
          "output_type": "stream",
          "name": "stdout",
          "text": [
            "Akurasi pada training set:  0.8863636363636364\n",
            "Precision pada training set:  0.9318181818181818\n",
            "Recall pada training set:  0.9318181818181818\n",
            "Akurasi pada test set:  0.85\n",
            "Precision pada test set:  0.85\n",
            "Recall pada test set:  0.85\n"
          ]
        }
      ]
    },
    {
      "cell_type": "code",
      "source": [
        "# Visualisasi Confusion Matrix dengan Seaborn\n",
        "sns.heatmap(confusion_matrix(Y_test_norm_pca,norm_pca_y_pred_knn_test),annot=True,cmap='viridis', fmt='.0f')\n",
        "plt.xlabel('Predicted Values', fontdict={'size':14}, labelpad=10)\n",
        "plt.ylabel('Actual Values', fontdict={'size':14}, labelpad=10)\n",
        "plt.title('Confusion Matrix pada bagian testing untuk data asli')\n",
        "plt.show()"
      ],
      "metadata": {
        "colab": {
          "base_uri": "https://localhost:8080/",
          "height": 317
        },
        "id": "8PmSiWjjZRtH",
        "outputId": "0386426c-ddb5-4393-e0a5-11e2ab8d13ab"
      },
      "execution_count": 49,
      "outputs": [
        {
          "output_type": "display_data",
          "data": {
            "text/plain": [
              "<Figure size 432x288 with 2 Axes>"
            ],
            "image/png": "[encoded data removed]"
          },
          "metadata": {}
        }
      ]
    },
    {
      "cell_type": "code",
      "source": [
        "models = [\n",
        "('Decision Tree PCA Data Normalisasi', norm_pca_accuracy_dt_train, norm_pca_accuracy_dt_test),\n",
        "('Gaussian Naive Bayes PCA Data Normalisasi', norm_pca_accuracy_nb_train, norm_pca_accuracy_nb_test),\n",
        "('K-Nearest Neighbors PCA Data Normalisasi', norm_pca_accuracy_knn_train, norm_pca_accuracy_knn_test),\n",
        "]"
      ],
      "metadata": {
        "id": "t8bl29qoT4Pu"
      },
      "execution_count": 50,
      "outputs": []
    },
    {
      "cell_type": "code",
      "source": [
        "# Melakukan perbandingan hasil training akurasi dan test akurasi dengan 3 model\n",
        "predict = pd.DataFrame(data = models, columns=['Model', 'Training Accuracy', 'Test Accuracy'])\n",
        "predict"
      ],
      "metadata": {
        "colab": {
          "base_uri": "https://localhost:8080/",
          "height": 143
        },
        "id": "uiohrYF-Uztl",
        "outputId": "daaee671-4399-4ae6-90e3-d5bd61d05af3"
      },
      "execution_count": 51,
      "outputs": [
        {
          "output_type": "execute_result",
          "data": {
            "text/plain": [
              "                                       Model  Training Accuracy  Test Accuracy\n",
              "0         Decision Tree PCA Data Normalisasi           0.931818           0.75\n",
              "1  Gaussian Naive Bayes PCA Data Normalisasi           0.931818           0.70\n",
              "2   K-Nearest Neighbors PCA Data Normalisasi           0.886364           0.85"
            ],
            "text/html": [
              "\n",
              "  <div id=\"df-fc16dbad-9e4d-4fff-be44-dc1365901039\">\n",
              "    <div class=\"colab-df-container\">\n",
              "      <div>\n",
              "<style scoped>\n",
              "    .dataframe tbody tr th:only-of-type {\n",
              "        vertical-align: middle;\n",
              "    }\n",
              "\n",
              "    .dataframe tbody tr th {\n",
              "        vertical-align: top;\n",
              "    }\n",
              "\n",
              "    .dataframe thead th {\n",
              "        text-align: right;\n",
              "    }\n",
              "</style>\n",
              "<table border=\"1\" class=\"dataframe\">\n",
              "  <thead>\n",
              "    <tr style=\"text-align: right;\">\n",
              "      <th></th>\n",
              "      <th>Model</th>\n",
              "      <th>Training Accuracy</th>\n",
              "      <th>Test Accuracy</th>\n",
              "    </tr>\n",
              "  </thead>\n",
              "  <tbody>\n",
              "    <tr>\n",
              "      <th>0</th>\n",
              "      <td>Decision Tree PCA Data Normalisasi</td>\n",
              "      <td>0.931818</td>\n",
              "      <td>0.75</td>\n",
              "    </tr>\n",
              "    <tr>\n",
              "      <th>1</th>\n",
              "      <td>Gaussian Naive Bayes PCA Data Normalisasi</td>\n",
              "      <td>0.931818</td>\n",
              "      <td>0.70</td>\n",
              "    </tr>\n",
              "    <tr>\n",
              "      <th>2</th>\n",
              "      <td>K-Nearest Neighbors PCA Data Normalisasi</td>\n",
              "      <td>0.886364</td>\n",
              "      <td>0.85</td>\n",
              "    </tr>\n",
              "  </tbody>\n",
              "</table>\n",
              "</div>\n",
              "      <button class=\"colab-df-convert\" onclick=\"convertToInteractive('df-fc16dbad-9e4d-4fff-be44-dc1365901039')\"\n",
              "              title=\"Convert this dataframe to an interactive table.\"\n",
              "              style=\"display:none;\">\n",
              "        \n",
              "  <svg xmlns=\"http://www.w3.org/2000/svg\" height=\"24px\"viewBox=\"0 0 24 24\"\n",
              "       width=\"24px\">\n",
              "    <path d=\"M0 0h24v24H0V0z\" fill=\"none\"/>\n",
              "    <path d=\"M18.56 5.44l.94 2.06.94-2.06 2.06-.94-2.06-.94-.94-2.06-.94 2.06-2.06.94zm-11 1L8.5 8.5l.94-2.06 2.06-.94-2.06-.94L8.5 2.5l-.94 2.06-2.06.94zm10 10l.94 2.06.94-2.06 2.06-.94-2.06-.94-.94-2.06-.94 2.06-2.06.94z\"/><path d=\"M17.41 7.96l-1.37-1.37c-.4-.4-.92-.59-1.43-.59-.52 0-1.04.2-1.43.59L10.3 9.45l-7.72 7.72c-.78.78-.78 2.05 0 2.83L4 21.41c.39.39.9.59 1.41.59.51 0 1.02-.2 1.41-.59l7.78-7.78 2.81-2.81c.8-.78.8-2.07 0-2.86zM5.41 20L4 18.59l7.72-7.72 1.47 1.35L5.41 20z\"/>\n",
              "  </svg>\n",
              "      </button>\n",
              "      \n",
              "  <style>\n",
              "    .colab-df-container {\n",
              "      display:flex;\n",
              "      flex-wrap:wrap;\n",
              "      gap: 12px;\n",
              "    }\n",
              "\n",
              "    .colab-df-convert {\n",
              "      background-color: #E8F0FE;\n",
              "      border: none;\n",
              "      border-radius: 50%;\n",
              "      cursor: pointer;\n",
              "      display: none;\n",
              "      fill: #1967D2;\n",
              "      height: 32px;\n",
              "      padding: 0 0 0 0;\n",
              "      width: 32px;\n",
              "    }\n",
              "\n",
              "    .colab-df-convert:hover {\n",
              "      background-color: #E2EBFA;\n",
              "      box-shadow: 0px 1px 2px rgba(60, 64, 67, 0.3), 0px 1px 3px 1px rgba(60, 64, 67, 0.15);\n",
              "      fill: #174EA6;\n",
              "    }\n",
              "\n",
              "    [theme=dark] .colab-df-convert {\n",
              "      background-color: #3B4455;\n",
              "      fill: #D2E3FC;\n",
              "    }\n",
              "\n",
              "    [theme=dark] .colab-df-convert:hover {\n",
              "      background-color: #434B5C;\n",
              "      box-shadow: 0px 1px 3px 1px rgba(0, 0, 0, 0.15);\n",
              "      filter: drop-shadow(0px 1px 2px rgba(0, 0, 0, 0.3));\n",
              "      fill: #FFFFFF;\n",
              "    }\n",
              "  </style>\n",
              "\n",
              "      <script>\n",
              "        const buttonEl =\n",
              "          document.querySelector('#df-fc16dbad-9e4d-4fff-be44-dc1365901039 button.colab-df-convert');\n",
              "        buttonEl.style.display =\n",
              "          google.colab.kernel.accessAllowed ? 'block' : 'none';\n",
              "\n",
              "        async function convertToInteractive(key) {\n",
              "          const element = document.querySelector('#df-fc16dbad-9e4d-4fff-be44-dc1365901039');\n",
              "          const dataTable =\n",
              "            await google.colab.kernel.invokeFunction('convertToInteractive',\n",
              "                                                     [key], {});\n",
              "          if (!dataTable) return;\n",
              "\n",
              "          const docLinkHtml = 'Like what you see? Visit the ' +\n",
              "            '<a target=\"_blank\" href=https://colab.research.google.com/notebooks/data_table.ipynb>data table notebook</a>'\n",
              "            + ' to learn more about interactive tables.';\n",
              "          element.innerHTML = '';\n",
              "          dataTable['output_type'] = 'display_data';\n",
              "          await google.colab.output.renderOutput(dataTable, element);\n",
              "          const docLink = document.createElement('div');\n",
              "          docLink.innerHTML = docLinkHtml;\n",
              "          element.appendChild(docLink);\n",
              "        }\n",
              "      </script>\n",
              "    </div>\n",
              "  </div>\n",
              "  "
            ]
          },
          "metadata": {},
          "execution_count": 51
        }
      ]
    },
    {
      "cell_type": "code",
      "source": [
        "models_comparison = [\n",
        "  ('Decision Tree PCA Data Normalisasi', norm_pca_accuracy_dt_test, norm_pca_recall_dt_test, norm_pca_precision_dt_test),\n",
        "  ('Gaussian Naive Bayes PCA Data Normalisasi', norm_pca_accuracy_nb_test, norm_pca_recall_nb_test, norm_pca_precision_nb_test),\n",
        "  ('K-Nearest Neighbors PCA Data Normalisasi', norm_pca_accuracy_knn_test, norm_pca_recall_knn_test, norm_pca_precision_knn_test),\n",
        "]"
      ],
      "metadata": {
        "id": "1Ch79RcvUWuS"
      },
      "execution_count": 52,
      "outputs": []
    },
    {
      "cell_type": "code",
      "source": [
        "# Melakukan perbandingan hasil Akurasi, Presisi dan Recall pada data Testing dengan 2 model\n",
        "comparison = pd.DataFrame(data = models_comparison, columns=['Model', 'Accuracy', 'Recall', 'Precision'])\n",
        "comparison"
      ],
      "metadata": {
        "colab": {
          "base_uri": "https://localhost:8080/",
          "height": 143
        },
        "id": "8a3eCgfhUhqD",
        "outputId": "77698f50-f86f-43ad-89be-09d4d4969c0a"
      },
      "execution_count": 53,
      "outputs": [
        {
          "output_type": "execute_result",
          "data": {
            "text/plain": [
              "                                       Model  Accuracy  Recall  Precision\n",
              "0         Decision Tree PCA Data Normalisasi      0.75    0.75       0.75\n",
              "1  Gaussian Naive Bayes PCA Data Normalisasi      0.70    0.70       0.70\n",
              "2   K-Nearest Neighbors PCA Data Normalisasi      0.85    0.85       0.85"
            ],
            "text/html": [
              "\n",
              "  <div id=\"df-25251ec2-1ba9-47a1-bc32-8b894c8a64d6\">\n",
              "    <div class=\"colab-df-container\">\n",
              "      <div>\n",
              "<style scoped>\n",
              "    .dataframe tbody tr th:only-of-type {\n",
              "        vertical-align: middle;\n",
              "    }\n",
              "\n",
              "    .dataframe tbody tr th {\n",
              "        vertical-align: top;\n",
              "    }\n",
              "\n",
              "    .dataframe thead th {\n",
              "        text-align: right;\n",
              "    }\n",
              "</style>\n",
              "<table border=\"1\" class=\"dataframe\">\n",
              "  <thead>\n",
              "    <tr style=\"text-align: right;\">\n",
              "      <th></th>\n",
              "      <th>Model</th>\n",
              "      <th>Accuracy</th>\n",
              "      <th>Recall</th>\n",
              "      <th>Precision</th>\n",
              "    </tr>\n",
              "  </thead>\n",
              "  <tbody>\n",
              "    <tr>\n",
              "      <th>0</th>\n",
              "      <td>Decision Tree PCA Data Normalisasi</td>\n",
              "      <td>0.75</td>\n",
              "      <td>0.75</td>\n",
              "      <td>0.75</td>\n",
              "    </tr>\n",
              "    <tr>\n",
              "      <th>1</th>\n",
              "      <td>Gaussian Naive Bayes PCA Data Normalisasi</td>\n",
              "      <td>0.70</td>\n",
              "      <td>0.70</td>\n",
              "      <td>0.70</td>\n",
              "    </tr>\n",
              "    <tr>\n",
              "      <th>2</th>\n",
              "      <td>K-Nearest Neighbors PCA Data Normalisasi</td>\n",
              "      <td>0.85</td>\n",
              "      <td>0.85</td>\n",
              "      <td>0.85</td>\n",
              "    </tr>\n",
              "  </tbody>\n",
              "</table>\n",
              "</div>\n",
              "      <button class=\"colab-df-convert\" onclick=\"convertToInteractive('df-25251ec2-1ba9-47a1-bc32-8b894c8a64d6')\"\n",
              "              title=\"Convert this dataframe to an interactive table.\"\n",
              "              style=\"display:none;\">\n",
              "        \n",
              "  <svg xmlns=\"http://www.w3.org/2000/svg\" height=\"24px\"viewBox=\"0 0 24 24\"\n",
              "       width=\"24px\">\n",
              "    <path d=\"M0 0h24v24H0V0z\" fill=\"none\"/>\n",
              "    <path d=\"M18.56 5.44l.94 2.06.94-2.06 2.06-.94-2.06-.94-.94-2.06-.94 2.06-2.06.94zm-11 1L8.5 8.5l.94-2.06 2.06-.94-2.06-.94L8.5 2.5l-.94 2.06-2.06.94zm10 10l.94 2.06.94-2.06 2.06-.94-2.06-.94-.94-2.06-.94 2.06-2.06.94z\"/><path d=\"M17.41 7.96l-1.37-1.37c-.4-.4-.92-.59-1.43-.59-.52 0-1.04.2-1.43.59L10.3 9.45l-7.72 7.72c-.78.78-.78 2.05 0 2.83L4 21.41c.39.39.9.59 1.41.59.51 0 1.02-.2 1.41-.59l7.78-7.78 2.81-2.81c.8-.78.8-2.07 0-2.86zM5.41 20L4 18.59l7.72-7.72 1.47 1.35L5.41 20z\"/>\n",
              "  </svg>\n",
              "      </button>\n",
              "      \n",
              "  <style>\n",
              "    .colab-df-container {\n",
              "      display:flex;\n",
              "      flex-wrap:wrap;\n",
              "      gap: 12px;\n",
              "    }\n",
              "\n",
              "    .colab-df-convert {\n",
              "      background-color: #E8F0FE;\n",
              "      border: none;\n",
              "      border-radius: 50%;\n",
              "      cursor: pointer;\n",
              "      display: none;\n",
              "      fill: #1967D2;\n",
              "      height: 32px;\n",
              "      padding: 0 0 0 0;\n",
              "      width: 32px;\n",
              "    }\n",
              "\n",
              "    .colab-df-convert:hover {\n",
              "      background-color: #E2EBFA;\n",
              "      box-shadow: 0px 1px 2px rgba(60, 64, 67, 0.3), 0px 1px 3px 1px rgba(60, 64, 67, 0.15);\n",
              "      fill: #174EA6;\n",
              "    }\n",
              "\n",
              "    [theme=dark] .colab-df-convert {\n",
              "      background-color: #3B4455;\n",
              "      fill: #D2E3FC;\n",
              "    }\n",
              "\n",
              "    [theme=dark] .colab-df-convert:hover {\n",
              "      background-color: #434B5C;\n",
              "      box-shadow: 0px 1px 3px 1px rgba(0, 0, 0, 0.15);\n",
              "      filter: drop-shadow(0px 1px 2px rgba(0, 0, 0, 0.3));\n",
              "      fill: #FFFFFF;\n",
              "    }\n",
              "  </style>\n",
              "\n",
              "      <script>\n",
              "        const buttonEl =\n",
              "          document.querySelector('#df-25251ec2-1ba9-47a1-bc32-8b894c8a64d6 button.colab-df-convert');\n",
              "        buttonEl.style.display =\n",
              "          google.colab.kernel.accessAllowed ? 'block' : 'none';\n",
              "\n",
              "        async function convertToInteractive(key) {\n",
              "          const element = document.querySelector('#df-25251ec2-1ba9-47a1-bc32-8b894c8a64d6');\n",
              "          const dataTable =\n",
              "            await google.colab.kernel.invokeFunction('convertToInteractive',\n",
              "                                                     [key], {});\n",
              "          if (!dataTable) return;\n",
              "\n",
              "          const docLinkHtml = 'Like what you see? Visit the ' +\n",
              "            '<a target=\"_blank\" href=https://colab.research.google.com/notebooks/data_table.ipynb>data table notebook</a>'\n",
              "            + ' to learn more about interactive tables.';\n",
              "          element.innerHTML = '';\n",
              "          dataTable['output_type'] = 'display_data';\n",
              "          await google.colab.output.renderOutput(dataTable, element);\n",
              "          const docLink = document.createElement('div');\n",
              "          docLink.innerHTML = docLinkHtml;\n",
              "          element.appendChild(docLink);\n",
              "        }\n",
              "      </script>\n",
              "    </div>\n",
              "  </div>\n",
              "  "
            ]
          },
          "metadata": {},
          "execution_count": 53
        }
      ]
    },
    {
      "cell_type": "code",
      "source": [
        "# Visualisasi Perbandingan 4 model dengan Seaborn\n",
        "f, axes = plt.subplots(2,1, figsize=(10,6))\n",
        "predict.sort_values(by=['Training Accuracy'], ascending=False, inplace=True)\n",
        "sns.barplot(x='Training Accuracy', y='Model', data = predict, palette='Blues_d', ax = axes[0])\n",
        "#axes[0].set(xlabel='Region', ylabel='Charges')\n",
        "axes[0].set_xlabel('Training Accuracy', size=16)\n",
        "axes[0].set_ylabel('Model')\n",
        "axes[0].set_xlim(0,1.0)\n",
        "axes[0].set_xticks(np.arange(0, 1.1, 0.1))\n",
        "predict.sort_values(by=['Test Accuracy'], ascending=False, inplace=True)\n",
        "sns.barplot(x='Test Accuracy', y='Model', data = predict, palette='Greens_d', ax = axes[1])\n",
        "#axes[0].set(xlabel='Region', ylabel='Charges')\n",
        "axes[1].set_xlabel('Test Accuracy', size=16)\n",
        "axes[1].set_ylabel('Model')\n",
        "axes[1].set_xlim(0,1.0)\n",
        "axes[1].set_xticks(np.arange(0, 1.1, 0.1))\n",
        "plt.show()"
      ],
      "metadata": {
        "colab": {
          "base_uri": "https://localhost:8080/",
          "height": 401
        },
        "id": "xy5_LSHBUlz9",
        "outputId": "6ba810ad-7169-40ee-9dca-0af0f6fbfc82"
      },
      "execution_count": 54,
      "outputs": [
        {
          "output_type": "display_data",
          "data": {
            "text/plain": [
              "<Figure size 720x432 with 2 Axes>"
            ],
            "image/png": "[encoded data removed]"
          },
          "metadata": {}
        }
      ]
    },
    {
      "cell_type": "code",
      "source": [],
      "metadata": {
        "id": "3HAElfbCU21d"
      },
      "execution_count": 54,
      "outputs": []
    }
  ]
}